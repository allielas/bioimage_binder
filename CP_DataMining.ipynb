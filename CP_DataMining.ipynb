{
 "cells": [
  {
   "cell_type": "code",
   "execution_count": 26,
   "id": "36402fce-6b82-4c73-95a1-0385d1d653ec",
   "metadata": {
    "deletable": true,
    "editable": true,
    "frozen": false,
    "slideshow": {
     "slide_type": ""
    },
    "tags": []
   },
   "outputs": [],
   "source": [
    "#Imports\n",
    "import pathlib\n",
    "import numpy as np\n",
    "import pandas as pd\n",
    "\n",
    "# pycytominer imports\n",
    "from pycytominer.cyto_utils.cells import SingleCells\n",
    "from pycytominer import aggregate, annotate, normalize, feature_select\n",
    "\n",
    "# ignore mix type warnings from pandas\n",
    "import warnings\n",
    "#plotting\n",
    "import matplotlib.colors as mcolors\n",
    "from matplotlib.patches import Rectangle\n",
    "import math\n",
    "import plotly.express as px\n",
    "import plotly.graph_objects as go\n",
    "import matplotlib.pyplot as plt\n",
    "import seaborn as sns\n",
    "import joypy\n",
    "import scipy\n",
    "from scipy import stats\n",
    "from scipy.stats import f_oneway\n",
    "from statsmodels.stats.multicomp import pairwise_tukeyhsd\n",
    "from sklearn.ensemble import IsolationForest\n",
    "\n",
    "from dask import dataframe as dd"
   ]
  },
  {
   "cell_type": "code",
   "execution_count": 27,
   "id": "5c7d2ba1-5cf0-4631-b456-6b955fb12f70",
   "metadata": {
    "deletable": true,
    "frozen": false,
    "slideshow": {
     "slide_type": ""
    },
    "tags": []
   },
   "outputs": [],
   "source": [
    "# Setting file paths\n",
    "data_dir = pathlib.Path(\"/mnt/bigdisk1/Allie_S/Replicative_Age_Project/CP_Output/Mar26\").resolve(strict=True)\n",
    "plate = \"Mar26_mitolyso_v3\"\n",
    "metadata_dir = (data_dir / \"metadata\").resolve(strict=True)\n",
    "\n",
    "plate_map = (metadata_dir / 'map.csv').resolve(strict=True)"
   ]
  },
  {
   "cell_type": "code",
   "execution_count": null,
   "id": "0c4af386-ccaf-4cb1-9483-d5d630d3d762",
   "metadata": {
    "deletable": false,
    "editable": false,
    "frozen": true
   },
   "outputs": [],
   "source": [
    "# input file paths for csv\n",
    "image_path = pathlib.Path(data_dir / plate / \"Image.csv\").resolve(strict=True)\n",
    "cell_path = pathlib.Path(data_dir / plate / \"CellOutline.csv\").resolve(strict=True)\n",
    "nuc_path = pathlib.Path(data_dir / plate / \"Nuclei.csv\").resolve(strict=True)\n",
    "lyso_path = pathlib.Path(data_dir / plate / \"Lysosomes.csv\").resolve(strict=True)\n",
    "mito_path = pathlib.Path(data_dir / plate / \"Mitochondria.csv\").resolve(strict=True)"
   ]
  },
  {
   "cell_type": "code",
   "execution_count": 45,
   "id": "9d2604e0-4f8b-4900-9d36-1b845cb3e997",
   "metadata": {
    "deletable": true,
    "editable": true,
    "frozen": false,
    "slideshow": {
     "slide_type": ""
    },
    "tags": []
   },
   "outputs": [],
   "source": [
    "#Input paths for db  \n",
    "db_path = pathlib.Path(data_dir / plate / \"Mar26_MitoLyso.db\").resolve(strict=True)\n",
    "\n",
    "#setting output paths\n",
    "out_dir = pathlib.Path(\"/mnt/bigdisk1/Allie_S/Replicative_Age_Project/Data_Mining/test_output/results\")\n",
    "out_dir.mkdir(exist_ok=True)\n",
    "\n",
    "sc_profiles_path = out_dir / \"single_cell_profile.csv.gz\"\n",
    "anno_profiles_path = out_dir / \"annotated_profile.csv.gz\"\n",
    "norm_profiles_path = out_dir / \"normalized_profile.csv.gz\"\n",
    "feat_profiles_path = out_dir / \"features_profile.csv.gz\"\n",
    "\n",
    "#img_db = pd.read_sql(\"SELECT ImageNumber, Metadata_Well, AreaShape_Area FROM Cell\", conn)\n",
    "\n",
    "# update compartment names and strata\n",
    "strata = [\"Image_Metadata_Well\", \"Image_Metadata_Plate\"]\n",
    "compartments = [\"Cells\", \"Cytoplasm\", \"Nuclei\"]\n",
    "\n",
    "# Updating linking columns for merging all compartments\n",
    "linking_cols = {\n",
    "    \"Cytoplasm\": {\n",
    "        \"Cells\": \"Cytoplasm_Parent_Cells\",\n",
    "        \"Nuclei\": \"Cytoplasm_Parent_Nuclei\",\n",
    "    },\n",
    "    \"Cells\": {\"Cytoplasm\": \"Cells_Number_Object_Number\"},\n",
    "    \"Nuclei\": {\"Cytoplasm\": \"Nuclei_Number_Object_Number\"},\n",
    "}"
   ]
  },
  {
   "cell_type": "code",
   "execution_count": 30,
   "id": "095324f5-71cf-4f84-9f5b-f5b5b647f32c",
   "metadata": {},
   "outputs": [
    {
     "name": "stdout",
     "output_type": "stream",
     "text": [
      "['Metadata_Well', 'Metadata_WellRow', 'Metadata_WellColumn', 'Metadata_Field', 'TimepointName', 'Replicate', 'Time', 'PassageNumber', 'Staining', 'Drug']\n"
     ]
    }
   ],
   "source": [
    "#Import the db and make single-cell profiles\n",
    "platemap_df = pd.read_csv(plate_map)\n",
    "print(platemap_df.columns.tolist())\n",
    "\n"
   ]
  },
  {
   "cell_type": "code",
   "execution_count": 47,
   "id": "0fc53abc-431e-468d-95ab-0987cfa01f09",
   "metadata": {
    "deletable": true,
    "editable": true,
    "frozen": false,
    "slideshow": {
     "slide_type": ""
    },
    "tags": []
   },
   "outputs": [
    {
     "ename": "AttributeError",
     "evalue": "'Connection' object has no attribute 'cursor'",
     "output_type": "error",
     "traceback": [
      "\u001b[0;31m---------------------------------------------------------------------------\u001b[0m",
      "\u001b[0;31mAttributeError\u001b[0m                            Traceback (most recent call last)",
      "Cell \u001b[0;32mIn[47], line 5\u001b[0m\n\u001b[1;32m      2\u001b[0m sqlite_address \u001b[38;5;241m=\u001b[39m \u001b[38;5;124mf\u001b[39m\u001b[38;5;124m\"\u001b[39m\u001b[38;5;124msqlite:///\u001b[39m\u001b[38;5;132;01m{\u001b[39;00m\u001b[38;5;28mstr\u001b[39m(db_path)\u001b[38;5;132;01m}\u001b[39;00m\u001b[38;5;124m\"\u001b[39m\n\u001b[1;32m      4\u001b[0m \u001b[38;5;66;03m# loading single cell morphology data into pycyotminer's SingleCells Object\u001b[39;00m\n\u001b[0;32m----> 5\u001b[0m single_cell_profile \u001b[38;5;241m=\u001b[39m \u001b[43mSingleCells\u001b[49m\u001b[43m(\u001b[49m\n\u001b[1;32m      6\u001b[0m \u001b[43m    \u001b[49m\u001b[43msql_file\u001b[49m\u001b[38;5;241;43m=\u001b[39;49m\u001b[43msqlite_address\u001b[49m\u001b[43m,\u001b[49m\n\u001b[1;32m      7\u001b[0m \u001b[43m    \u001b[49m\u001b[43mcompartments\u001b[49m\u001b[38;5;241;43m=\u001b[39;49m\u001b[43mcompartments\u001b[49m\u001b[43m,\u001b[49m\n\u001b[1;32m      8\u001b[0m \u001b[43m    \u001b[49m\u001b[43mcompartment_linking_cols\u001b[49m\u001b[38;5;241;43m=\u001b[39;49m\u001b[43mlinking_cols\u001b[49m\u001b[43m,\u001b[49m\n\u001b[1;32m      9\u001b[0m \u001b[43m    \u001b[49m\u001b[43mimage_table_name\u001b[49m\u001b[38;5;241;43m=\u001b[39;49m\u001b[38;5;124;43m\"\u001b[39;49m\u001b[38;5;124;43mMar26_Per_Image\u001b[39;49m\u001b[38;5;124;43m\"\u001b[39;49m\u001b[43m,\u001b[49m\n\u001b[1;32m     10\u001b[0m \u001b[43m    \u001b[49m\u001b[43mstrata\u001b[49m\u001b[38;5;241;43m=\u001b[39;49m\u001b[43mstrata\u001b[49m\u001b[43m,\u001b[49m\n\u001b[1;32m     11\u001b[0m \u001b[43m    \u001b[49m\u001b[43mmerge_cols\u001b[49m\u001b[38;5;241;43m=\u001b[39;49m\u001b[43m[\u001b[49m\u001b[38;5;124;43m\"\u001b[39;49m\u001b[38;5;124;43mImageNumber\u001b[39;49m\u001b[38;5;124;43m\"\u001b[39;49m\u001b[43m]\u001b[49m\u001b[43m,\u001b[49m\n\u001b[1;32m     12\u001b[0m \u001b[43m    \u001b[49m\u001b[43mimage_cols\u001b[49m\u001b[38;5;241;43m=\u001b[39;49m\u001b[38;5;124;43m\"\u001b[39;49m\u001b[38;5;124;43mImageNumber\u001b[39;49m\u001b[38;5;124;43m\"\u001b[39;49m\u001b[43m,\u001b[49m\n\u001b[1;32m     13\u001b[0m \u001b[43m    \u001b[49m\u001b[43mload_image_data\u001b[49m\u001b[38;5;241;43m=\u001b[39;49m\u001b[38;5;28;43;01mTrue\u001b[39;49;00m\u001b[43m,\u001b[49m\n\u001b[1;32m     14\u001b[0m \u001b[43m)\u001b[49m\n\u001b[1;32m     16\u001b[0m \u001b[38;5;66;03m# merging all sqlite table into a single tabular dataset (csv) and save as\u001b[39;00m\n\u001b[1;32m     17\u001b[0m \u001b[38;5;66;03m# compressed csv file\u001b[39;00m\n\u001b[1;32m     18\u001b[0m single_cell_profile\u001b[38;5;241m.\u001b[39mmerge_single_cells(\n\u001b[1;32m     19\u001b[0m     sc_output_file\u001b[38;5;241m=\u001b[39msc_profiles_path, compression_options\u001b[38;5;241m=\u001b[39m\u001b[38;5;124m\"\u001b[39m\u001b[38;5;124mgzip\u001b[39m\u001b[38;5;124m\"\u001b[39m\n\u001b[1;32m     20\u001b[0m )\n",
      "File \u001b[0;32m~/miniforge3/envs/cytomining/lib/python3.12/site-packages/pycytominer/cyto_utils/cells.py:179\u001b[0m, in \u001b[0;36mSingleCells.__init__\u001b[0;34m(self, sql_file, strata, aggregation_operation, output_file, compartments, compartment_linking_cols, merge_cols, image_cols, add_image_features, image_feature_categories, features, load_image_data, image_table_name, subsample_frac, subsample_n, subsampling_random_state, fields_of_view, fields_of_view_feature, object_feature, default_datatype_float)\u001b[0m\n\u001b[1;32m    177\u001b[0m \u001b[38;5;28mself\u001b[39m\u001b[38;5;241m.\u001b[39mimage_data_loaded \u001b[38;5;241m=\u001b[39m \u001b[38;5;28;01mFalse\u001b[39;00m\n\u001b[1;32m    178\u001b[0m \u001b[38;5;28;01mif\u001b[39;00m \u001b[38;5;28mself\u001b[39m\u001b[38;5;241m.\u001b[39mload_image_data:\n\u001b[0;32m--> 179\u001b[0m     \u001b[38;5;28;43mself\u001b[39;49m\u001b[38;5;241;43m.\u001b[39;49m\u001b[43mload_image\u001b[49m\u001b[43m(\u001b[49m\u001b[43mimage_table_name\u001b[49m\u001b[38;5;241;43m=\u001b[39;49m\u001b[38;5;28;43mself\u001b[39;49m\u001b[38;5;241;43m.\u001b[39;49m\u001b[43mimage_table_name\u001b[49m\u001b[43m)\u001b[49m\n",
      "File \u001b[0;32m~/miniforge3/envs/cytomining/lib/python3.12/site-packages/pycytominer/cyto_utils/cells.py:276\u001b[0m, in \u001b[0;36mSingleCells.load_image\u001b[0;34m(self, image_table_name)\u001b[0m\n\u001b[1;32m    273\u001b[0m     image_table_name \u001b[38;5;241m=\u001b[39m \u001b[38;5;28mself\u001b[39m\u001b[38;5;241m.\u001b[39mimage_table_name\n\u001b[1;32m    275\u001b[0m image_query \u001b[38;5;241m=\u001b[39m \u001b[38;5;124mf\u001b[39m\u001b[38;5;124m\"\u001b[39m\u001b[38;5;124mselect * from \u001b[39m\u001b[38;5;132;01m{\u001b[39;00mimage_table_name\u001b[38;5;132;01m}\u001b[39;00m\u001b[38;5;124m\"\u001b[39m\n\u001b[0;32m--> 276\u001b[0m \u001b[38;5;28mself\u001b[39m\u001b[38;5;241m.\u001b[39mimage_df \u001b[38;5;241m=\u001b[39m \u001b[43mpd\u001b[49m\u001b[38;5;241;43m.\u001b[39;49m\u001b[43mread_sql\u001b[49m\u001b[43m(\u001b[49m\u001b[43msql\u001b[49m\u001b[38;5;241;43m=\u001b[39;49m\u001b[43mimage_query\u001b[49m\u001b[43m,\u001b[49m\u001b[43m \u001b[49m\u001b[43mcon\u001b[49m\u001b[38;5;241;43m=\u001b[39;49m\u001b[38;5;28;43mself\u001b[39;49m\u001b[38;5;241;43m.\u001b[39;49m\u001b[43mconn\u001b[49m\u001b[43m)\u001b[49m\n\u001b[1;32m    278\u001b[0m \u001b[38;5;28;01mif\u001b[39;00m \u001b[38;5;28mself\u001b[39m\u001b[38;5;241m.\u001b[39madd_image_features:\n\u001b[1;32m    279\u001b[0m     \u001b[38;5;28mself\u001b[39m\u001b[38;5;241m.\u001b[39mimage_features_df \u001b[38;5;241m=\u001b[39m extract_image_features(\n\u001b[1;32m    280\u001b[0m         \u001b[38;5;28mself\u001b[39m\u001b[38;5;241m.\u001b[39mimage_feature_categories,\n\u001b[1;32m    281\u001b[0m         \u001b[38;5;28mself\u001b[39m\u001b[38;5;241m.\u001b[39mimage_df,\n\u001b[1;32m    282\u001b[0m         \u001b[38;5;28mself\u001b[39m\u001b[38;5;241m.\u001b[39mimage_cols,\n\u001b[1;32m    283\u001b[0m         \u001b[38;5;28mself\u001b[39m\u001b[38;5;241m.\u001b[39mstrata,\n\u001b[1;32m    284\u001b[0m     )\n",
      "File \u001b[0;32m~/miniforge3/envs/cytomining/lib/python3.12/site-packages/pandas/io/sql.py:706\u001b[0m, in \u001b[0;36mread_sql\u001b[0;34m(sql, con, index_col, coerce_float, params, parse_dates, columns, chunksize, dtype_backend, dtype)\u001b[0m\n\u001b[1;32m    704\u001b[0m \u001b[38;5;28;01mwith\u001b[39;00m pandasSQL_builder(con) \u001b[38;5;28;01mas\u001b[39;00m pandas_sql:\n\u001b[1;32m    705\u001b[0m     \u001b[38;5;28;01mif\u001b[39;00m \u001b[38;5;28misinstance\u001b[39m(pandas_sql, SQLiteDatabase):\n\u001b[0;32m--> 706\u001b[0m         \u001b[38;5;28;01mreturn\u001b[39;00m \u001b[43mpandas_sql\u001b[49m\u001b[38;5;241;43m.\u001b[39;49m\u001b[43mread_query\u001b[49m\u001b[43m(\u001b[49m\n\u001b[1;32m    707\u001b[0m \u001b[43m            \u001b[49m\u001b[43msql\u001b[49m\u001b[43m,\u001b[49m\n\u001b[1;32m    708\u001b[0m \u001b[43m            \u001b[49m\u001b[43mindex_col\u001b[49m\u001b[38;5;241;43m=\u001b[39;49m\u001b[43mindex_col\u001b[49m\u001b[43m,\u001b[49m\n\u001b[1;32m    709\u001b[0m \u001b[43m            \u001b[49m\u001b[43mparams\u001b[49m\u001b[38;5;241;43m=\u001b[39;49m\u001b[43mparams\u001b[49m\u001b[43m,\u001b[49m\n\u001b[1;32m    710\u001b[0m \u001b[43m            \u001b[49m\u001b[43mcoerce_float\u001b[49m\u001b[38;5;241;43m=\u001b[39;49m\u001b[43mcoerce_float\u001b[49m\u001b[43m,\u001b[49m\n\u001b[1;32m    711\u001b[0m \u001b[43m            \u001b[49m\u001b[43mparse_dates\u001b[49m\u001b[38;5;241;43m=\u001b[39;49m\u001b[43mparse_dates\u001b[49m\u001b[43m,\u001b[49m\n\u001b[1;32m    712\u001b[0m \u001b[43m            \u001b[49m\u001b[43mchunksize\u001b[49m\u001b[38;5;241;43m=\u001b[39;49m\u001b[43mchunksize\u001b[49m\u001b[43m,\u001b[49m\n\u001b[1;32m    713\u001b[0m \u001b[43m            \u001b[49m\u001b[43mdtype_backend\u001b[49m\u001b[38;5;241;43m=\u001b[39;49m\u001b[43mdtype_backend\u001b[49m\u001b[43m,\u001b[49m\n\u001b[1;32m    714\u001b[0m \u001b[43m            \u001b[49m\u001b[43mdtype\u001b[49m\u001b[38;5;241;43m=\u001b[39;49m\u001b[43mdtype\u001b[49m\u001b[43m,\u001b[49m\n\u001b[1;32m    715\u001b[0m \u001b[43m        \u001b[49m\u001b[43m)\u001b[49m\n\u001b[1;32m    717\u001b[0m     \u001b[38;5;28;01mtry\u001b[39;00m:\n\u001b[1;32m    718\u001b[0m         _is_table_name \u001b[38;5;241m=\u001b[39m pandas_sql\u001b[38;5;241m.\u001b[39mhas_table(sql)\n",
      "File \u001b[0;32m~/miniforge3/envs/cytomining/lib/python3.12/site-packages/pandas/io/sql.py:2738\u001b[0m, in \u001b[0;36mSQLiteDatabase.read_query\u001b[0;34m(self, sql, index_col, coerce_float, parse_dates, params, chunksize, dtype, dtype_backend)\u001b[0m\n\u001b[1;32m   2727\u001b[0m \u001b[38;5;28;01mdef\u001b[39;00m \u001b[38;5;21mread_query\u001b[39m(\n\u001b[1;32m   2728\u001b[0m     \u001b[38;5;28mself\u001b[39m,\n\u001b[1;32m   2729\u001b[0m     sql,\n\u001b[0;32m   (...)\u001b[0m\n\u001b[1;32m   2736\u001b[0m     dtype_backend: DtypeBackend \u001b[38;5;241m|\u001b[39m Literal[\u001b[38;5;124m\"\u001b[39m\u001b[38;5;124mnumpy\u001b[39m\u001b[38;5;124m\"\u001b[39m] \u001b[38;5;241m=\u001b[39m \u001b[38;5;124m\"\u001b[39m\u001b[38;5;124mnumpy\u001b[39m\u001b[38;5;124m\"\u001b[39m,\n\u001b[1;32m   2737\u001b[0m ) \u001b[38;5;241m-\u001b[39m\u001b[38;5;241m>\u001b[39m DataFrame \u001b[38;5;241m|\u001b[39m Iterator[DataFrame]:\n\u001b[0;32m-> 2738\u001b[0m     cursor \u001b[38;5;241m=\u001b[39m \u001b[38;5;28;43mself\u001b[39;49m\u001b[38;5;241;43m.\u001b[39;49m\u001b[43mexecute\u001b[49m\u001b[43m(\u001b[49m\u001b[43msql\u001b[49m\u001b[43m,\u001b[49m\u001b[43m \u001b[49m\u001b[43mparams\u001b[49m\u001b[43m)\u001b[49m\n\u001b[1;32m   2739\u001b[0m     columns \u001b[38;5;241m=\u001b[39m [col_desc[\u001b[38;5;241m0\u001b[39m] \u001b[38;5;28;01mfor\u001b[39;00m col_desc \u001b[38;5;129;01min\u001b[39;00m cursor\u001b[38;5;241m.\u001b[39mdescription]\n\u001b[1;32m   2741\u001b[0m     \u001b[38;5;28;01mif\u001b[39;00m chunksize \u001b[38;5;129;01mis\u001b[39;00m \u001b[38;5;129;01mnot\u001b[39;00m \u001b[38;5;28;01mNone\u001b[39;00m:\n",
      "File \u001b[0;32m~/miniforge3/envs/cytomining/lib/python3.12/site-packages/pandas/io/sql.py:2672\u001b[0m, in \u001b[0;36mSQLiteDatabase.execute\u001b[0;34m(self, sql, params)\u001b[0m\n\u001b[1;32m   2670\u001b[0m     \u001b[38;5;28;01mraise\u001b[39;00m \u001b[38;5;167;01mTypeError\u001b[39;00m(\u001b[38;5;124m\"\u001b[39m\u001b[38;5;124mQuery must be a string unless using sqlalchemy.\u001b[39m\u001b[38;5;124m\"\u001b[39m)\n\u001b[1;32m   2671\u001b[0m args \u001b[38;5;241m=\u001b[39m [] \u001b[38;5;28;01mif\u001b[39;00m params \u001b[38;5;129;01mis\u001b[39;00m \u001b[38;5;28;01mNone\u001b[39;00m \u001b[38;5;28;01melse\u001b[39;00m [params]\n\u001b[0;32m-> 2672\u001b[0m cur \u001b[38;5;241m=\u001b[39m \u001b[38;5;28;43mself\u001b[39;49m\u001b[38;5;241;43m.\u001b[39;49m\u001b[43mcon\u001b[49m\u001b[38;5;241;43m.\u001b[39;49m\u001b[43mcursor\u001b[49m()\n\u001b[1;32m   2673\u001b[0m \u001b[38;5;28;01mtry\u001b[39;00m:\n\u001b[1;32m   2674\u001b[0m     cur\u001b[38;5;241m.\u001b[39mexecute(sql, \u001b[38;5;241m*\u001b[39margs)\n",
      "\u001b[0;31mAttributeError\u001b[0m: 'Connection' object has no attribute 'cursor'"
     ]
    }
   ],
   "source": [
    "\n",
    "# setting up sqlite address\n",
    "sqlite_address = f\"sqlite:///{str(db_path)}\"\n",
    "\n",
    "# loading single cell morphology data into pycyotminer's SingleCells Object\n",
    "single_cell_profile = SingleCells(\n",
    "    sql_file=sqlite_address,\n",
    "    compartments=compartments,\n",
    "    compartment_linking_cols=linking_cols,\n",
    "    image_table_name=\"Mar26_Per_Image\",\n",
    "    strata=strata,\n",
    "    merge_cols=[\"ImageNumber\"],\n",
    "    image_cols=\"ImageNumber\",\n",
    "    load_image_data=True,\n",
    ")\n",
    "\n",
    "# merging all sqlite table into a single tabular dataset (csv) and save as\n",
    "# compressed csv file\n",
    "single_cell_profile.merge_single_cells(\n",
    "    sc_output_file=sc_profiles_path, compression_options=\"gzip\"\n",
    ")\n"
   ]
  },
  {
   "cell_type": "code",
   "execution_count": 3,
   "id": "c1e3b1b8-cd37-43b5-9f90-c1fcc83fbb80",
   "metadata": {
    "deletable": false,
    "editable": false,
    "frozen": true,
    "scrolled": true,
    "slideshow": {
     "slide_type": ""
    },
    "tags": []
   },
   "outputs": [
    {
     "name": "stdout",
     "output_type": "stream",
     "text": [
      "['Metadata_Well', 'TimepointName', 'Staining', 'Metadata_WellRow', 'Metadata_WellColumn', 'Metadata_Field', 'Replicate', 'Time', 'PassageNumber', 'Drug', 'Polylysine']\n"
     ]
    }
   ],
   "source": [
    "# loading plate map and display it\n",
    "\n",
    "\n",
    "# displaying platemap\n",
    "print(platemap_df.columns.tolist())\n",
    "\n",
    "#Import the cellprofiler csv files using dask to save memory\n",
    "image_df = dd.read_csv(image_path)\n",
    "pre_nuclei_df = dd.read_csv(nuc_path, usecols=['ObjectNumber','ImageNumber','Metadata_Well', 'Metadata_Field', \n",
    "                                          'Metadata_WellColumn', 'Metadata_WellRow', 'AreaShape_Area',\n",
    "                                         'AreaShape_Eccentricity','Parent_CellOutline'],index_col = False)\n",
    "pre_cell_df = dd.read_csv(cell_path, usecols=['ObjectNumber','ImageNumber','Metadata_Well', 'Metadata_Field', \n",
    "                                          'Metadata_WellColumn', 'Metadata_WellRow', 'AreaShape_Area',\n",
    "                                         'AreaShape_Eccentricity','Children_Lysosomes_Count', 'Children_Mitochondria_Count',\n",
    "                                          'Math_Lysosome_CellOutline_Ratio', 'Math_Mitochondria_CellOutline_Ratio'], index_col = False)\n",
    "pre_lyso_df = dd.read_csv(lyso_path, usecols=['ObjectNumber','ImageNumber','Metadata_Well', 'Metadata_Field',\n",
    "                                          'Metadata_WellColumn', 'Metadata_WellRow', 'AreaShape_Area',\n",
    "                                         'AreaShape_Eccentricity','Parent_CellOutline','Intensity_MedianIntensity_LAMP1',\n",
    "                                         'Intensity_MeanIntensity_LAMP1','Texture_Contrast_LAMP1_3_01_256'],index_col = False)\n",
    "pre_mito_df = dd.read_csv(mito_path, usecols=['ObjectNumber','ImageNumber','Metadata_Well', 'Metadata_Field',\n",
    "                                          'Metadata_WellColumn', 'Metadata_WellRow', 'AreaShape_Area',\n",
    "                                         'AreaShape_Eccentricity','Parent_CellOutline','Intensity_MedianIntensity_MitoTracker',\n",
    "                                         'Intensity_MeanIntensity_MitoTracker','Texture_Contrast_MitoTracker_3_01_256'],index_col = False)\n"
   ]
  },
  {
   "cell_type": "code",
   "execution_count": 4,
   "id": "7b1078f4-63e6-4c1a-ac8e-56cfb78c346a",
   "metadata": {
    "deletable": true,
    "editable": true,
    "frozen": false,
    "slideshow": {
     "slide_type": ""
    },
    "tags": []
   },
   "outputs": [],
   "source": [
    "#Merge the dfs with the metadata\n",
    "cell_df = pre_cell_df.merge(platemap_df, on=['Metadata_Well','Metadata_WellRow','Metadata_WellColumn','Metadata_Field'], how ='left')\n",
    "lyso_df = pre_lyso_df.merge(platemap_df, on=['Metadata_Well','Metadata_WellRow','Metadata_WellColumn','Metadata_Field'], how ='left')\n",
    "mito_df = pre_mito_df.merge(platemap_df, on=['Metadata_Well','Metadata_WellRow','Metadata_WellColumn','Metadata_Field'], how ='left')\n",
    "nuclei_df Show Co= pre_nuclei_df.merge(platemap_df, on=['Metadata_Well','Metadata_WellRow','Metadata_WellColumn','Metadata_Field'], how ='left')\n",
    "\n",
    "###cell_df.set_index('ObjectNumber')\n",
    "#dfs are still of the dask df type \n",
    "#print(type(cell_df))\n"
   ]
  },
  {
   "cell_type": "markdown",
   "id": "81e74aed-5a82-433b-a713-06d1310a0ac2",
   "metadata": {
    "deletable": true,
    "editable": true,
    "frozen": false,
    "jp-MarkdownHeadingCollapsed": true
   },
   "source": [
    "# Welcome to join hell\n",
    "Joining two 6GB files will definitley crash...without a different approach (dask, SQL, or concat and remove dupes)"
   ]
  },
  {
   "cell_type": "code",
   "execution_count": null,
   "id": "9a8038ab-55a9-47be-9078-a9ecbcbb117c",
   "metadata": {
    "deletable": true,
    "editable": true,
    "frozen": false
   },
   "outputs": [],
   "source": [
    "#Trying with right join\n",
    "\n",
    "#Rename the Cell object number column so pandas doesn't get confused\n",
    "renamed_cell_df = cell_df.rename(columns={\"ObjectNumber\":\"CellObjectNumber\"})\n",
    "\n",
    "intersect_cols = renamed_cell_df.columns.intersection(lyso_df.columns,sort=True).to_numpy\n",
    "print(intersect_cols)\n",
    "\n",
    "merged_lyso = renamed_cell_df.merge(lyso_df, how ='right', on=intersect_cols,\n",
    "                            left_on='CellObjectNumber', right_on='Parent_CellOutline',\n",
    "                            suffixes = ('_Cell','_Compartment'), indicator = True, broadcast = True)\n",
    "\n",
    "display(merged_lyso.head(100).style)\n",
    "#print(cell_df.head(100))"
   ]
  },
  {
   "cell_type": "code",
   "execution_count": null,
   "id": "971a4c8a-ec63-47c9-87ba-9ced790c8ae7",
   "metadata": {
    "deletable": true,
    "editable": true,
    "frozen": false
   },
   "outputs": [],
   "source": [
    "#Trying with leftsemijoin\n",
    "\n",
    "#Rename the Cell object number column so pandas doesn't get confused\n",
    "renamed_cell_df = cell_df.rename(columns={\"ObjectNumber\":\"CellObjectNumber\"})\n",
    "\n",
    "\n",
    "merged_lyso = lyso_df.merge(renamed_cell_df, how ='leftsemi', #on=['Metadata*],\n",
    "                            right_on='CellObjectNumber', left_on='Parent_CellOutline',\n",
    "                            suffixes = ('_Cell','_Compartment'), indicator = True)\n",
    "\n",
    "display(merged_lyso.head(20))\n",
    "print(merged_lyso.columns)\n",
    "\n",
    "## Getting closer; but dask will drop the right columns... not ideal"
   ]
  },
  {
   "cell_type": "code",
   "execution_count": null,
   "id": "7e488301-835e-4fa3-8a8b-f4ca5a31e1b5",
   "metadata": {
    "deletable": true,
    "editable": true,
    "frozen": false
   },
   "outputs": [],
   "source": [
    "#Trying with a left whatever #crashes fml\n",
    "\n",
    "#Rename the Cell object number column so pandas doesn't get confused\n",
    "renamed_cell_df = cell_df.rename(columns={\"ObjectNumber\":\"CellObjectNumber\"})\n",
    "#computed_lyso = lyso_df.compute()\n",
    "\n",
    "merged_lyso = lyso_df.merge(renamed_cell_df, how = 'left',\n",
    "                                  right_on='CellObjectNumber', left_on='Parent_CellOutline',\n",
    "                                 suffixes = ('_Lyso','_Cell'), indicator = True)\n",
    "\n",
    "merged_lyso.to_csv('path_to_merged.csv', index=False)\n",
    "\n",
    "#print(merged_lyso.columns)\n"
   ]
  },
  {
   "cell_type": "markdown",
   "id": "fd88bbc7-9017-403e-b402-f7b4a474ab99",
   "metadata": {
    "deletable": true,
    "editable": true,
    "frozen": false
   },
   "source": [
    "## Don't do this!\n",
    "```python\n",
    "##Try it in chunks\n",
    "\n",
    "#Define the chunk size\n",
    "chunk_size = 10000\n",
    "\n",
    "# Initialize an empty list to store the merged chunks\n",
    "merged_chunks = []\n",
    "\n",
    "# Read the cell data once\n",
    "pre_cell_df = pd.read_csv(cell_path, usecols=['ObjectNumber','ImageNumber','Metadata_Well', 'Metadata_Field', \n",
    "                                          'Metadata_WellColumn', 'Metadata_WellRow', 'AreaShape_Area',\n",
    "                                         'AreaShape_Eccentricity','Children_Lysosomes_Count', 'Children_Mitochondria_Count',\n",
    "                                          'Math_Lysosome_CellOutline_Ratio', 'Math_Mitochondria_CellOutline_Ratio'], index_col = False)\n",
    "\n",
    "with open('merged.csv', 'w') as f:\n",
    "    # Write the header\n",
    "    header_written = False\n",
    "    \n",
    "    pre_lyso_df = pd.read_csv(lyso_path, usecols=['ObjectNumber','ImageNumber','Metadata_Well', 'Metadata_Field',\n",
    "                                          'Metadata_WellColumn', 'Metadata_WellRow', 'AreaShape_Area',\n",
    "                                         'AreaShape_Eccentricity','Parent_CellOutline','Intensity_MedianIntensity_LAMP1',\n",
    "                                         'Intensity_MeanIntensity_LAMP1','Texture_Contrast_LAMP1_3_01_256'],index_col = False,chunksize = chunk_size)\n",
    "    # Process the lysosome data in chunks\n",
    "    for lysosome_chunk in pre_lyso_df:\n",
    "        merged_chunk = pd.merge(lysosome_chunk, pre_cell_df, left_on='Parent_CellOutline', right_on='ObjectNumber', how='left')\n",
    "        if not header_written:\n",
    "            merged_chunk.to_csv(f, index=False)\n",
    "            header_written = True\n",
    "            merged_chunks.append(merged_chunk)\n",
    "        else:\n",
    "            merged_chunk.to_csv(f, index=False, header=False)\n",
    "\n",
    "```\n",
    "What's happening here is the **cartesian effect** - the join is seeing my rows as duplicates, and thus doing vector multiplication and making my life a living hell.\n",
    "- Avoid left/right/outer joins when you aren't specifying \"WHERE\" to join on. Otherwise, the computer won't know what to do.\n"
   ]
  },
  {
   "cell_type": "markdown",
   "id": "201a533e-d139-4bfc-a109-624be9cbaf70",
   "metadata": {
    "deletable": true,
    "editable": true,
    "frozen": false
   },
   "source": [
    "## This crashes\n",
    "'''\n",
    "\n",
    "danger_merged_lyso = merged_lyso.compute()\n",
    "display(danger_merged_lyso.head(20))\n",
    "\n",
    "'''"
   ]
  },
  {
   "cell_type": "code",
   "execution_count": null,
   "id": "e368c7bd-767d-446d-bd29-93f9feb3a9d5",
   "metadata": {
    "deletable": true,
    "editable": true,
    "frozen": false
   },
   "outputs": [],
   "source": [
    "display(merged_lyso.compute().head(20))"
   ]
  },
  {
   "cell_type": "code",
   "execution_count": 7,
   "id": "d3d58e62-b4aa-4d0b-8184-98df8b0ef3e3",
   "metadata": {
    "deletable": true,
    "editable": true,
    "frozen": false
   },
   "outputs": [
    {
     "name": "stdout",
     "output_type": "stream",
     "text": [
      "Number of rows in merged DataFrame: 587282296\n",
      "Number of unique lysosomes: 1270303\n",
      "Number of unique cells: 7376\n"
     ]
    }
   ],
   "source": [
    "#valid_merged_lyso = merged_lyso[merged_lyso['CellObjectNumber'].notnull() & merged_lyso['Parent_CellOutline'].notnull()]\n",
    "                        \n",
    "print(f\"Number of rows in merged DataFrame: {merged_lyso.shape[0].compute()}\")\n",
    "print(f\"Number of unique lysosomes: {lyso_df.shape[0].compute()}\")\n",
    "print(f\"Number of unique cells: {cell_df.shape[0].compute()}\")\n",
    "#group = merge_lyso.where()\n",
    "\n",
    "#display(merged_lyso.compute().head(10))"
   ]
  },
  {
   "cell_type": "code",
   "execution_count": null,
   "id": "d66f589f-8130-44e7-afe3-264113e21002",
   "metadata": {
    "deletable": true,
    "editable": true,
    "frozen": false
   },
   "outputs": [],
   "source": [
    "query = lyso_df['Parent_CellOutline'].astype(int) < 1\n",
    "display(query)\n"
   ]
  },
  {
   "cell_type": "code",
   "execution_count": 7,
   "id": "8ed78378-644d-4b04-bfd5-6af8b72215a9",
   "metadata": {
    "deletable": true,
    "editable": true,
    "frozen": false
   },
   "outputs": [
    {
     "data": {
      "text/html": [
       "<div>\n",
       "<style scoped>\n",
       "    .dataframe tbody tr th:only-of-type {\n",
       "        vertical-align: middle;\n",
       "    }\n",
       "\n",
       "    .dataframe tbody tr th {\n",
       "        vertical-align: top;\n",
       "    }\n",
       "\n",
       "    .dataframe thead th {\n",
       "        text-align: right;\n",
       "    }\n",
       "</style>\n",
       "<table border=\"1\" class=\"dataframe\">\n",
       "  <thead>\n",
       "    <tr style=\"text-align: right;\">\n",
       "      <th></th>\n",
       "      <th>ImageNumber</th>\n",
       "      <th>ObjectNumber</th>\n",
       "      <th>Metadata_Field</th>\n",
       "      <th>Metadata_WellColumn</th>\n",
       "      <th>Metadata_WellRow</th>\n",
       "      <th>AreaShape_Area</th>\n",
       "      <th>AreaShape_Eccentricity</th>\n",
       "      <th>Intensity_MeanIntensity_LAMP1</th>\n",
       "      <th>Intensity_MedianIntensity_LAMP1</th>\n",
       "      <th>Parent_CellOutline</th>\n",
       "      <th>Texture_Contrast_LAMP1_3_01_256</th>\n",
       "      <th>Replicate</th>\n",
       "      <th>Time</th>\n",
       "      <th>PassageNumber</th>\n",
       "    </tr>\n",
       "  </thead>\n",
       "  <tbody>\n",
       "    <tr>\n",
       "      <th>count</th>\n",
       "      <td>127028.000000</td>\n",
       "      <td>127028.000000</td>\n",
       "      <td>127028.000000</td>\n",
       "      <td>127028.000000</td>\n",
       "      <td>127028.000000</td>\n",
       "      <td>127028.000000</td>\n",
       "      <td>127028.000000</td>\n",
       "      <td>127028.000000</td>\n",
       "      <td>127028.000000</td>\n",
       "      <td>127028.000000</td>\n",
       "      <td>127028.000000</td>\n",
       "      <td>127028.000000</td>\n",
       "      <td>127028.000000</td>\n",
       "      <td>127028.000000</td>\n",
       "    </tr>\n",
       "    <tr>\n",
       "      <th>mean</th>\n",
       "      <td>582.619289</td>\n",
       "      <td>955.064120</td>\n",
       "      <td>17.266453</td>\n",
       "      <td>4.118911</td>\n",
       "      <td>4.402982</td>\n",
       "      <td>140.886529</td>\n",
       "      <td>0.641414</td>\n",
       "      <td>0.109842</td>\n",
       "      <td>0.106502</td>\n",
       "      <td>4.510856</td>\n",
       "      <td>186.035958</td>\n",
       "      <td>3.118911</td>\n",
       "      <td>1.881089</td>\n",
       "      <td>11.030804</td>\n",
       "    </tr>\n",
       "    <tr>\n",
       "      <th>std</th>\n",
       "      <td>356.684464</td>\n",
       "      <td>839.815325</td>\n",
       "      <td>11.318295</td>\n",
       "      <td>1.347064</td>\n",
       "      <td>1.751927</td>\n",
       "      <td>125.296455</td>\n",
       "      <td>0.193960</td>\n",
       "      <td>0.057771</td>\n",
       "      <td>0.056714</td>\n",
       "      <td>5.026357</td>\n",
       "      <td>265.017958</td>\n",
       "      <td>1.347064</td>\n",
       "      <td>1.347064</td>\n",
       "      <td>3.631007</td>\n",
       "    </tr>\n",
       "    <tr>\n",
       "      <th>min</th>\n",
       "      <td>2.000000</td>\n",
       "      <td>1.000000</td>\n",
       "      <td>1.000000</td>\n",
       "      <td>2.000000</td>\n",
       "      <td>2.000000</td>\n",
       "      <td>1.000000</td>\n",
       "      <td>0.000000</td>\n",
       "      <td>0.002317</td>\n",
       "      <td>0.002319</td>\n",
       "      <td>0.000000</td>\n",
       "      <td>0.000000</td>\n",
       "      <td>1.000000</td>\n",
       "      <td>0.000000</td>\n",
       "      <td>6.000000</td>\n",
       "    </tr>\n",
       "    <tr>\n",
       "      <th>25%</th>\n",
       "      <td>266.000000</td>\n",
       "      <td>341.000000</td>\n",
       "      <td>8.000000</td>\n",
       "      <td>3.000000</td>\n",
       "      <td>3.000000</td>\n",
       "      <td>48.000000</td>\n",
       "      <td>0.532778</td>\n",
       "      <td>0.070899</td>\n",
       "      <td>0.068559</td>\n",
       "      <td>1.000000</td>\n",
       "      <td>21.603488</td>\n",
       "      <td>2.000000</td>\n",
       "      <td>1.000000</td>\n",
       "      <td>9.000000</td>\n",
       "    </tr>\n",
       "    <tr>\n",
       "      <th>50%</th>\n",
       "      <td>562.000000</td>\n",
       "      <td>745.000000</td>\n",
       "      <td>15.000000</td>\n",
       "      <td>4.000000</td>\n",
       "      <td>4.000000</td>\n",
       "      <td>107.000000</td>\n",
       "      <td>0.673879</td>\n",
       "      <td>0.100315</td>\n",
       "      <td>0.096910</td>\n",
       "      <td>3.000000</td>\n",
       "      <td>103.834848</td>\n",
       "      <td>3.000000</td>\n",
       "      <td>2.000000</td>\n",
       "      <td>11.000000</td>\n",
       "    </tr>\n",
       "    <tr>\n",
       "      <th>75%</th>\n",
       "      <td>900.000000</td>\n",
       "      <td>1334.000000</td>\n",
       "      <td>26.000000</td>\n",
       "      <td>5.000000</td>\n",
       "      <td>6.000000</td>\n",
       "      <td>198.000000</td>\n",
       "      <td>0.787133</td>\n",
       "      <td>0.137081</td>\n",
       "      <td>0.132311</td>\n",
       "      <td>7.000000</td>\n",
       "      <td>246.845333</td>\n",
       "      <td>4.000000</td>\n",
       "      <td>3.000000</td>\n",
       "      <td>14.000000</td>\n",
       "    </tr>\n",
       "    <tr>\n",
       "      <th>max</th>\n",
       "      <td>1200.000000</td>\n",
       "      <td>7604.000000</td>\n",
       "      <td>40.000000</td>\n",
       "      <td>6.000000</td>\n",
       "      <td>7.000000</td>\n",
       "      <td>1287.000000</td>\n",
       "      <td>1.000000</td>\n",
       "      <td>0.932394</td>\n",
       "      <td>1.000000</td>\n",
       "      <td>36.000000</td>\n",
       "      <td>9516.976471</td>\n",
       "      <td>5.000000</td>\n",
       "      <td>4.000000</td>\n",
       "      <td>17.000000</td>\n",
       "    </tr>\n",
       "  </tbody>\n",
       "</table>\n",
       "</div>"
      ],
      "text/plain": [
       "         ImageNumber   ObjectNumber  Metadata_Field  Metadata_WellColumn  \\\n",
       "count  127028.000000  127028.000000   127028.000000        127028.000000   \n",
       "mean      582.619289     955.064120       17.266453             4.118911   \n",
       "std       356.684464     839.815325       11.318295             1.347064   \n",
       "min         2.000000       1.000000        1.000000             2.000000   \n",
       "25%       266.000000     341.000000        8.000000             3.000000   \n",
       "50%       562.000000     745.000000       15.000000             4.000000   \n",
       "75%       900.000000    1334.000000       26.000000             5.000000   \n",
       "max      1200.000000    7604.000000       40.000000             6.000000   \n",
       "\n",
       "       Metadata_WellRow  AreaShape_Area  AreaShape_Eccentricity  \\\n",
       "count     127028.000000   127028.000000           127028.000000   \n",
       "mean           4.402982      140.886529                0.641414   \n",
       "std            1.751927      125.296455                0.193960   \n",
       "min            2.000000        1.000000                0.000000   \n",
       "25%            3.000000       48.000000                0.532778   \n",
       "50%            4.000000      107.000000                0.673879   \n",
       "75%            6.000000      198.000000                0.787133   \n",
       "max            7.000000     1287.000000                1.000000   \n",
       "\n",
       "       Intensity_MeanIntensity_LAMP1  Intensity_MedianIntensity_LAMP1  \\\n",
       "count                  127028.000000                    127028.000000   \n",
       "mean                        0.109842                         0.106502   \n",
       "std                         0.057771                         0.056714   \n",
       "min                         0.002317                         0.002319   \n",
       "25%                         0.070899                         0.068559   \n",
       "50%                         0.100315                         0.096910   \n",
       "75%                         0.137081                         0.132311   \n",
       "max                         0.932394                         1.000000   \n",
       "\n",
       "       Parent_CellOutline  Texture_Contrast_LAMP1_3_01_256      Replicate  \\\n",
       "count       127028.000000                    127028.000000  127028.000000   \n",
       "mean             4.510856                       186.035958       3.118911   \n",
       "std              5.026357                       265.017958       1.347064   \n",
       "min              0.000000                         0.000000       1.000000   \n",
       "25%              1.000000                        21.603488       2.000000   \n",
       "50%              3.000000                       103.834848       3.000000   \n",
       "75%              7.000000                       246.845333       4.000000   \n",
       "max             36.000000                      9516.976471       5.000000   \n",
       "\n",
       "                Time  PassageNumber  \n",
       "count  127028.000000  127028.000000  \n",
       "mean        1.881089      11.030804  \n",
       "std         1.347064       3.631007  \n",
       "min         0.000000       6.000000  \n",
       "25%         1.000000       9.000000  \n",
       "50%         2.000000      11.000000  \n",
       "75%         3.000000      14.000000  \n",
       "max         4.000000      17.000000  "
      ]
     },
     "metadata": {},
     "output_type": "display_data"
    }
   ],
   "source": [
    "#Trying otut summary stats\n",
    "sample_df = lyso_df.sample(frac=0.1).compute()  # Sample 1% of the data for visualization\n",
    "\n",
    "display(sample_df.describe())"
   ]
  },
  {
   "cell_type": "code",
   "execution_count": null,
   "id": "93766485-75eb-4332-b93c-94f0662316d0",
   "metadata": {
    "deletable": true,
    "editable": true,
    "frozen": false
   },
   "outputs": [],
   "source": [
    "#Sample visualizattion\n",
    "sample_df = merged_lyso.sample(frac=0.1).compute()  # Sample 1% of the data for visualization\n",
    "plt.scatter(sample_df['Metadata_WellColumn'], sample_df['AreaShape_Area'])\n",
    "plt.xlabel('Col')\n",
    "plt.ylabel('Area')\n",
    "plt.show()"
   ]
  },
  {
   "cell_type": "code",
   "execution_count": null,
   "id": "8ebb83ab-1670-46e0-989f-656fa4ce3220",
   "metadata": {
    "deletable": true,
    "editable": true,
    "frozen": false
   },
   "outputs": [],
   "source": [
    "#Welcome to join hell - Aligned?\n",
    "\n",
    "\n",
    "merged_lyso = cell_df.align(lyso_df, how ='right', on=['Metadata_Well','Metadata_WellRow','Metadata_WellColumn','Metadata_Field'],\n",
    "                            left_on='ObjectNumber', right_on='Parent_CellOutline',\n",
    "                            suffixes = ('_Cell','_Compartment'), indicator = True)\n",
    "\n",
    "display(merged_lyso.head(100).style)\n",
    "#print(cell_df.head(100))"
   ]
  },
  {
   "cell_type": "code",
   "execution_count": null,
   "id": "f143082d-76d2-4b4a-acad-52069806d250",
   "metadata": {
    "deletable": true,
    "editable": true,
    "frozen": false
   },
   "outputs": [],
   "source": [
    "#Join hell but with vectors - if cross join works we might be so back\n",
    "lyso_df_pd = lyso_df.compute()\n",
    "cell_df_pd = cell_df.compute()\n",
    "\n",
    "#merged_lyso = cell_df_pd.merge(lyso_df_pd, how ='cross') #its so over"
   ]
  },
  {
   "cell_type": "code",
   "execution_count": null,
   "id": "cbc4cff4-7811-4eeb-9795-65b5c9e3ee2e",
   "metadata": {
    "deletable": true,
    "editable": true,
    "frozen": false,
    "slideshow": {
     "slide_type": ""
    },
    "tags": []
   },
   "outputs": [],
   "source": [
    "#Features to be used in plots and stats\n",
    "cell_features = ['AreaShape_Area','AreaShape_Eccentricity','Children_Lysosomes_Count', 'Children_Mitochondria_Count',\n",
    "                 'Math_Lysosome_CellOutline_Ratio', 'Math_Mitochondria_CellOutline_Ratio']\n",
    "lyso_features = ['AreaShape_Area','AreaShape_Eccentricity','Intensity_MedianIntensity_LAMP1',\n",
    "                 'Intensity_MeanIntensity_LAMP1','Texture_Contrast_LAMP1_3_01_256']\n",
    "mito_features = ['AreaShape_Area','AreaShape_Eccentricity','Texture_Contrast_MitoTracker_3_01_256']\n",
    "nuclei_features = ['AreaShape_Area','AreaShape_Eccentricity']"
   ]
  },
  {
   "cell_type": "code",
   "execution_count": null,
   "id": "c85b6071-002f-4acb-a3bd-fa916c212129",
   "metadata": {
    "deletable": true,
    "editable": true,
    "frozen": false
   },
   "outputs": [],
   "source": [
    "#Make time int\n",
    "for df in [mito_df, nuclei_df, cell_df, lyso_df]:\n",
    "\n",
    "    df['Time'] = df['Time'].astype(int)"
   ]
  },
  {
   "cell_type": "code",
   "execution_count": null,
   "id": "9c32e923-1f37-42cf-8b2c-ab7dea4829da",
   "metadata": {
    "deletable": true,
    "editable": true,
    "frozen": false,
    "slideshow": {
     "slide_type": ""
    },
    "tags": []
   },
   "outputs": [],
   "source": [
    "#Function to find the ratio between two columns in the two dataframes\n",
    "def ratioCalc(df1, df2):\n",
    "  int1 = df1['Intensity_MedianIntensity_CompensatedTfn']\n",
    "  int2 = df2['Intensity_MedianIntensity_CompensatedTfn']\n",
    "\n",
    "  temp_copy1 = outlier_removal(df1, int1)\n",
    "  temp_copy2 = outlier_removal(df2, int2)\n",
    "\n",
    "  intensity_ratio = temp_copy1[int1] / temp_copy1[int2]\n",
    "  return df[intensity_ratio]\n",
    "\n",
    "def normalize_timepoint(df, column):\n",
    "    #A function to normalize values in a column to those of the time 0 \n",
    "    time_zero_df = df.where(df['Time'] == 0)\n",
    "\n",
    " #normalizing intensity from 0 to 1 - DEPRECATE THIS\n",
    "def normalization(df, column):\n",
    "  min_intensity = df[column].min()\n",
    "  max_intensity = df[column].max()\n",
    "  df[column] = (df[column] - min_intensity) / (max_intensity - min_intensity)\n",
    "  return df[column]\n",
    "\n",
    "def mad_normalization(df, column): #Also deprecate this \n",
    "\n",
    "  mad = scipy.stats.median_abs_deviation(df[column])\n",
    "  outlier_mask = np.abs(df[column] - df[column].median()) > mad*1.5\n",
    "  cleaned_df = df[~outlier_mask]\n",
    "  #recalaculate mad and make a mask of mads that go over the threshold (then negate them)\n",
    "  return cleaned_df[column]\n",
    "\n",
    "def outlier_removal(df, column):\n",
    "    # Create a copy of the column and the 'Time' column\n",
    "\n",
    "    if 'Ikarugamycin' in df: #remove this for now\n",
    "      filtered_df = df[df['Drug'] != 'Ikarugamycin']\n",
    "\n",
    "      column_copy = filtered_df[column].copy()\n",
    "      time_column = filtered_df['Time'].copy()\n",
    "      parent_column = filtered_df['Parent_Nuclei'].copy()\n",
    "\n",
    "      mini_df = pd.DataFrame({column: column_copy,'Time': time_column,'Parent_Nuclei' : parent_column})\n",
    "      mini_df = mini_df.dropna()\n",
    "    else:\n",
    "      column_copy = df[column].copy()\n",
    "      time_column = df['Time'].copy()\n",
    "       # Create a mini DataFrame with the column and 'Time' values\n",
    "      mini_df = pd.DataFrame({column: column_copy, 'Time': time_column})\n",
    "      mini_df = mini_df.dropna()\n",
    "\n",
    "    #remove values for each type of data\n",
    "    if df.equals(nuclei_df):\n",
    "      # remove stuff within the range of t4\n",
    "      four_mean = np.mean(column_copy[df['Time'] == 4])\n",
    "      std_dev = np.std(column_copy[df['Time'] == 4])\n",
    "      threshold = four_mean + (3 * std_dev)\n",
    "\n",
    "      mini_df = mini_df[mini_df[column] <= threshold]\n",
    "      mini_df = mini_df.reset_index(drop=True)\n",
    "\n",
    "\n",
    "    if 'AreaShape' in column:\n",
    "      mini_df[column] = mini_df[column].astype(float)\n",
    "      mini_df = mini_df.loc[(mini_df[column] <= 300000) & (mini_df[column] > 0)]\n",
    "      mini_df = mini_df.reset_index(drop=True)\n",
    "\n",
    "    if 'Texture' in column:\n",
    "      mini_df[column] = mini_df[column].astype(float)\n",
    "      mini_df = mini_df.loc[(mini_df[column] <= 200) & (mini_df[column] > 0)]\n",
    "      mini_df = mini_df.reset_index(drop=True)\n",
    "\n",
    "      # Calculate top and bottom percentiles for Time == 0\n",
    "    p1 = np.percentile(mini_df[column], 5)\n",
    "    p3 = np.percentile(mini_df[column], 95)\n",
    "\n",
    "    # Filter out values greater than 3IQR from Q1 or Q3\n",
    "    filtered_mini_df = mini_df.loc[(mini_df[column] >= p1) & (mini_df[column] <= p3)]\n",
    "    #Train outlier detection algorithm on non-images csvs\n",
    "    if df.dropna().equals(image_df.dropna()):\n",
    "    #pd.testing.assert_frame_equal(df,image_df):\n",
    "      return filtered_mini_df\n",
    "    else:\n",
    "      cleaned_df = []\n",
    "      groups = filtered_mini_df['Time'].unique()\n",
    "      for group in groups:\n",
    "\n",
    "        group = int(group)\n",
    "        group_mini_df = filtered_mini_df[filtered_mini_df['Time'] == group]\n",
    "\n",
    "        X_1D = group_mini_df[column].values\n",
    "        X = X_1D.reshape(-1, 1)\n",
    "        clf = IsolationForest(n_estimators=20, random_state=42, contamination='auto')\n",
    "        clf.fit(X)  # fit 20 trees\n",
    "\n",
    "        #Predict outliers and remove from X\n",
    "        preds = clf.predict(X)\n",
    "        outlier_indices = np.where(preds == -1)[0]\n",
    "        # Create a masked df for each group to block out the values of outliers from the original dataset (use ~ to negate outliers so they can be removed)\n",
    "        cleaned_group_df = group_mini_df.loc[~group_mini_df.index.isin(outlier_indices)]\n",
    "        #add the masked df to the list\n",
    "        cleaned_df.append(cleaned_group_df)\n",
    "\n",
    "      cleaned_df = pd.concat(cleaned_df, ignore_index=True) #collapse list into df\n",
    "    return pd.DataFrame(cleaned_df)\n",
    "\n",
    "\n",
    "\n",
    "# if df.equals(mito_df) or df.equals(lysosomes_df):\n",
    "# if df[Parents] == nuclei_df[ObjectNumber]. - only have the above if\n",
    "#if 'Area' in column:\n",
    "# Calculate mean and standard deviation for Time == 4"
   ]
  },
  {
   "cell_type": "code",
   "execution_count": null,
   "id": "97dc3c6f-bfb2-4b70-b654-ce8b4b869aee",
   "metadata": {
    "deletable": true,
    "editable": true,
    "frozen": false,
    "id": "jlmUEprgxRyu"
   },
   "outputs": [],
   "source": [
    "def normalization(df, column): #normalizing intensity from 0 to 1\n",
    "  min_intensity = df[column].min()\n",
    "  max_intensity = df[column].max()\n",
    "  df[column] = (df[column] - min_intensity) / (max_intensity - min_intensity)\n",
    "  return df[column]\n",
    "\n",
    "def z_normalization(df, column):\n",
    "\n",
    "  df[column] = df[column] - df[column].mean() / df[column].std()\n",
    "  return df[column]\n",
    "\n",
    "#median absolute deviation; normalize using median version of standard deviation\n",
    "def mad_normalization(df, column):\n",
    "\n",
    "  mad = scipy.stats.median_abs_deviation(df[column])\n",
    "  outlier_mask = np.abs(df[column] - df[column].median()) > mad*1.5\n",
    "  cleaned_df = df[~outlier_mask]\n",
    "  #recalaculate mad and make a mask of mads that go over the threshold (then negate them)\n",
    "  return cleaned_df[column]\n"
   ]
  },
  {
   "cell_type": "code",
   "execution_count": null,
   "id": "e4712e57-bf39-484a-aac6-18373cbbe2d0",
   "metadata": {
    "deletable": true,
    "editable": true,
    "frozen": false,
    "id": "JCW64iaYC__l"
   },
   "outputs": [],
   "source": [
    "\n",
    "def stats(df, cols, excel_name):\n",
    "    \n",
    "    stats_cols = cols\n",
    "    with pd.ExcelWriter(excel_name) as writer:\n",
    "\n",
    "      for column in cols:\n",
    "        temp_copy = df.copy()  # Create a copy of the DataFrame for processing\n",
    "\n",
    "        if 'Intensity' in column:\n",
    "          temp_copy[column] = normamlization(temp_copy, column)\n",
    "          temp_copy = outlier_removal(temp_copy, column)\n",
    "        else:\n",
    "          temp_copy[column] = mad_normalization(temp_copy, column)\n",
    "\n",
    "          temp_copy = outlier_removal(temp_copy, column)\n",
    "\n",
    "        # Perform pairwise Tukey's HSD test\n",
    "        tukey = pairwise_tukeyhsd(endog=temp_copy[column], groups=temp_copy['Time'])\n",
    "\n",
    "        # Extract relevant results\n",
    "        results = np.array(tukey.summary().data)[:, [0, 1, 3, 6]]\n",
    "        df_results = pd.DataFrame(results, columns=['Group 1', 'Group 2', 'p-value', 'Reject']).drop([0])\n",
    "        df_results.reset_index(drop=True, inplace=True)\n",
    "        df_results[['Group 1', 'Group 2']] = df_results[['Group 1', 'Group 2']].astype(int)\n",
    "        df_results['p-value'] = df_results['p-value'].astype(float)\n",
    "        # Truncate the column name if it exceeds 31 characters\n",
    "        name = column[:31]\n",
    "\n",
    "        # Save DataFrame to Excel sheet without the index column\n",
    "        df_results.to_excel(writer, sheet_name=name, index=False)\n"
   ]
  },
  {
   "cell_type": "markdown",
   "id": "f066c1cc-6372-4a6c-b86e-7b9ac56aa160",
   "metadata": {
    "deletable": true,
    "editable": true,
    "frozen": false,
    "jp-MarkdownHeadingCollapsed": true
   },
   "source": [
    "# Call your stats below (anova)"
   ]
  },
  {
   "cell_type": "code",
   "execution_count": null,
   "id": "42b398d1-74ca-4b35-a5f3-441c1d20c0e1",
   "metadata": {
    "deletable": true,
    "editable": true,
    "frozen": false,
    "id": "yIRnjjXd4n41"
   },
   "outputs": [],
   "source": [
    "stats(mito_df, # dataframe name: mito_df, nuclei_df, image_df, outline_df, lysosomes_df\n",
    "      mito_features, # list of columns specified in the cell right above, modify to make it work for a specific dataset\n",
    "      'mar13_mito_stats.xlsx') # name of the excel file you are gonna save stats to"
   ]
  },
  {
   "cell_type": "markdown",
   "id": "471f97e9-c191-4258-86c9-1467d3f587a0",
   "metadata": {
    "deletable": true,
    "editable": true,
    "frozen": false,
    "jp-MarkdownHeadingCollapsed": true
   },
   "source": [
    "# Make the plots and validate dist"
   ]
  },
  {
   "cell_type": "code",
   "execution_count": null,
   "id": "e5c54674-0050-4886-a673-4932694cb276",
   "metadata": {
    "deletable": true,
    "editable": true,
    "frozen": false,
    "id": "SQcRrbKzDRqI"
   },
   "outputs": [],
   "source": [
    "def make_layout(xtitle,ytitle):\n",
    "  design = go.Layout(\n",
    "        plot_bgcolor=\"#FFF\",\n",
    "        xaxis=dict(\n",
    "            title=xtitle,\n",
    "            linecolor=\"black\",\n",
    "            showgrid=False,\n",
    "            titlefont=dict(size=20),\n",
    "            tickfont=dict(size=16, color=\"black\")\n",
    "        ),\n",
    "        yaxis=dict(\n",
    "            title=ytitle,\n",
    "            linecolor=\"black\",\n",
    "            showgrid=False,\n",
    "            titlefont=dict(size=20),\n",
    "            tickfont=dict(size=16, color=\"black\")\n",
    "        ),\n",
    "        font=dict(size=14),\n",
    "        legend=dict(\n",
    "            title=\"\",\n",
    "            itemsizing='constant',\n",
    "            font=dict(size=16, color=\"black\"),\n",
    "            tracegroupgap=10,\n",
    "            traceorder='normal',\n",
    "            orientation=\"h\",\n",
    "            yanchor=\"bottom\",\n",
    "            y=1.02,\n",
    "            xanchor=\"right\",\n",
    "            x=1\n",
    "        ),\n",
    "        boxgap=0.4,\n",
    "        boxgroupgap=0.05,\n",
    "        width=900,  # Specify width of the plot\n",
    "        height=600\n",
    "    )\n",
    "  return design\n",
    "\n",
    "def box_param(fig, color, design):\n",
    "  fig.update_traces(boxmean=True)\n",
    "  fig.update_traces(jitter=1.0)\n",
    "  fig.update_traces(boxpoints=False)\n",
    "  fig.update_layout(design)\n",
    "  fig.update_traces({'opacity': 0.9})\n",
    "  fig.update_traces(marker_color=color)\n",
    "  return fig"
   ]
  },
  {
   "cell_type": "code",
   "execution_count": null,
   "id": "7e7405cc-5896-4723-8df3-cc16f04f86f6",
   "metadata": {
    "deletable": true,
    "editable": true,
    "frozen": false
   },
   "outputs": [],
   "source": [
    "def boxplot(df, variable, ytitle, xtitle, box_color, save=False, save_name=None):\n",
    "    # #some styling stuff\n",
    "  layout = make_layout(xtitle,ytitle)\n",
    "  temp_copy = df.copy()\n",
    "  if 'Intensity' in variable:\n",
    "    temp_copy = outlier_removal(temp_copy, variable)\n",
    "    temp_copy[variable] = normalization(temp_copy, variable)\n",
    "\n",
    "  else:\n",
    "    temp_copy = outlier_removal(temp_copy, variable)\n",
    "    temp_copy[variable] = mad_normalization(temp_copy, variable)\n",
    "\n",
    "  fig = px.box(temp_copy, x=\"Time\", y=variable)\n",
    "  fig = box_param(fig, box_color, layout)\n",
    "  fig.update_traces(quartilemethod=\"linear\")\n",
    "  fig.show()\n",
    "  \n",
    "  if save==True:\n",
    "      fig.write_image(save_name)"
   ]
  },
  {
   "cell_type": "markdown",
   "id": "420e8287-1175-41cb-8621-49c17972bfed",
   "metadata": {
    "deletable": true,
    "editable": true,
    "frozen": false,
    "jp-MarkdownHeadingCollapsed": true
   },
   "source": [
    "##  Call plotly\n",
    "```python\n",
    "boxplot(df, # dataframe name: mito_df, nuclei_df, image_df, outline_df, lysosomes_df\n",
    "        'Variable', # the variable you wanna plot, column name\n",
    "        'Y Title',# name of your y-axis (custom)\n",
    "        'Time Point',#name of your x-axis (custom)\n",
    "        'Red', # color of the boxes\n",
    "        save=True, # if wanna save change to False to True, False is default\n",
    "        save_name='_boxplot.png') #specify the name of the plot that you save\n",
    "\n",
    "```"
   ]
  },
  {
   "cell_type": "code",
   "execution_count": null,
   "id": "a7862fef-6fc1-4092-9cd2-a72d5787213f",
   "metadata": {
    "deletable": true,
    "editable": true,
    "frozen": false
   },
   "outputs": [],
   "source": [
    "#save all the files for that one feature\n",
    "\n",
    "colors_i = 0\n",
    "compartment = 'Lyso'\n",
    "\n",
    "for feature in lyso_features:\n",
    "    title = compartment + '_' + feature\n",
    "    boxplot(lyso_df,\n",
    "            feature,\n",
    "            feature,\n",
    "            \"Time Point\",\n",
    "            px.colors.qualitative.Pastel[colors_i],\n",
    "            save = True,\n",
    "            save_name = plate + \"_\" + compartment + \"_\" + feature + \"_boxplot.png\")\n",
    "    colors_i = colors_i + 1\n",
    "    \n",
    "            \n",
    "    "
   ]
  },
  {
   "cell_type": "code",
   "execution_count": null,
   "id": "decc2e4c-9481-43b3-803c-06db563a3443",
   "metadata": {
    "deletable": true,
    "editable": true,
    "frozen": false
   },
   "outputs": [],
   "source": [
    "#fig = boxplot(cell_df,\"AreaShape_Area\",\"Area\",\"Time\",\"dodgerblue\")\n",
    "\n",
    "fig = px.bar(lyso_df,y=\"AreaShape_Area\",x=\"Time\")\n",
    "fig.show()"
   ]
  },
  {
   "cell_type": "code",
   "execution_count": null,
   "id": "fa51bbae-5f0d-4566-a96d-7848f0484a21",
   "metadata": {
    "deletable": true,
    "editable": true,
    "frozen": false
   },
   "outputs": [],
   "source": [
    "fig = px.histogram(lyso_df, x='Intensity_MedianIntensity_LAMP1', color = 'Time')\n",
    "fig.update_xaxes(range=[0,1])\n",
    "fig.show()"
   ]
  },
  {
   "cell_type": "code",
   "execution_count": null,
   "id": "856242eb-0d7f-40ef-a1d8-6103461351ce",
   "metadata": {
    "deletable": true,
    "editable": true,
    "frozen": false,
    "id": "QGdhJQLGUzie"
   },
   "outputs": [],
   "source": [
    "fig = px.histogram(outlier_removal(lyso_df,'Intensity_MedianIntensity_LAMP1'), x='Intensity_MedianIntensity_LAMP1', color = 'Time')\n",
    "fig.update_xaxes(range=[0,1])\n",
    "fig.show()"
   ]
  },
  {
   "cell_type": "markdown",
   "id": "0981584f-7e71-4b2f-8e0d-ad737b3333d2",
   "metadata": {
    "deletable": true,
    "editable": true,
    "frozen": false
   },
   "source": [
    "# Pycytominer Testing: Use on single-cell profiles"
   ]
  },
  {
   "cell_type": "code",
   "execution_count": null,
   "id": "6219af9c-2ca5-4c66-81da-e778b33b3884",
   "metadata": {},
   "outputs": [],
   "source": []
  },
  {
   "cell_type": "code",
   "execution_count": 5,
   "id": "c8406b24-84b5-449e-9605-36147059b9be",
   "metadata": {
    "deletable": true,
    "editable": true,
    "frozen": false
   },
   "outputs": [
    {
     "name": "stdout",
     "output_type": "stream",
     "text": [
      "load_profiles() didn't find the path.\n",
      "[Errno 2] No such file or directory: '/mnt/bigdisk1/Allie_S/Replicative_Age_Project/Data_Mining/test_output/results/single_cell_profile.csv.gz'\n"
     ]
    },
    {
     "ename": "FileNotFoundError",
     "evalue": "[Errno 2] No such file or directory: '/mnt/bigdisk1/Allie_S/Replicative_Age_Project/Data_Mining/test_output/results/single_cell_profile.csv.gz'",
     "output_type": "error",
     "traceback": [
      "\u001b[0;31m---------------------------------------------------------------------------\u001b[0m",
      "\u001b[0;31mFileNotFoundError\u001b[0m                         Traceback (most recent call last)",
      "Cell \u001b[0;32mIn[5], line 2\u001b[0m\n\u001b[1;32m      1\u001b[0m \u001b[38;5;66;03m# annotating merged single-cell profile with metadata\u001b[39;00m\n\u001b[0;32m----> 2\u001b[0m \u001b[43mannotate\u001b[49m\u001b[43m(\u001b[49m\n\u001b[1;32m      3\u001b[0m \u001b[43m    \u001b[49m\u001b[43mprofiles\u001b[49m\u001b[38;5;241;43m=\u001b[39;49m\u001b[43msc_profiles_path\u001b[49m\u001b[43m,\u001b[49m\n\u001b[1;32m      4\u001b[0m \u001b[43m    \u001b[49m\u001b[43mplatemap\u001b[49m\u001b[38;5;241;43m=\u001b[39;49m\u001b[43mplatemap_df\u001b[49m\u001b[43m,\u001b[49m\n\u001b[1;32m      5\u001b[0m \u001b[43m    \u001b[49m\u001b[43mjoin_on\u001b[49m\u001b[38;5;241;43m=\u001b[39;49m\u001b[43m[\u001b[49m\u001b[38;5;124;43m\"\u001b[39;49m\u001b[38;5;124;43mMetadata_Well\u001b[39;49m\u001b[38;5;124;43m\"\u001b[39;49m\u001b[43m,\u001b[49m\u001b[43m \u001b[49m\u001b[38;5;124;43m\"\u001b[39;49m\u001b[38;5;124;43mMetadata_Field\u001b[39;49m\u001b[38;5;124;43m\"\u001b[39;49m\u001b[43m]\u001b[49m\u001b[43m,\u001b[49m\n\u001b[1;32m      6\u001b[0m \u001b[43m    \u001b[49m\u001b[43moutput_file\u001b[49m\u001b[38;5;241;43m=\u001b[39;49m\u001b[43manno_profiles_path\u001b[49m\u001b[43m,\u001b[49m\n\u001b[1;32m      7\u001b[0m \u001b[43m    \u001b[49m\u001b[43mcompression_options\u001b[49m\u001b[38;5;241;43m=\u001b[39;49m\u001b[38;5;124;43m\"\u001b[39;49m\u001b[38;5;124;43mgzip\u001b[39;49m\u001b[38;5;124;43m\"\u001b[39;49m\u001b[43m,\u001b[49m\n\u001b[1;32m      8\u001b[0m \u001b[43m)\u001b[49m\n\u001b[1;32m      9\u001b[0m single_cell_profile\u001b[38;5;241m.\u001b[39mmerge_single_cells(\n\u001b[1;32m     10\u001b[0m     sc_output_file\u001b[38;5;241m=\u001b[39msc_profiles_path, compression_options\u001b[38;5;241m=\u001b[39m\u001b[38;5;124m\"\u001b[39m\u001b[38;5;124mgzip\u001b[39m\u001b[38;5;124m\"\u001b[39m\n\u001b[1;32m     11\u001b[0m )\n\u001b[1;32m     13\u001b[0m \u001b[38;5;66;03m# save message display\u001b[39;00m\n",
      "File \u001b[0;32m~/miniforge3/envs/cytomining/lib/python3.12/site-packages/pycytominer/annotate.py:80\u001b[0m, in \u001b[0;36mannotate\u001b[0;34m(profiles, platemap, join_on, output_file, output_type, add_metadata_id_to_platemap, format_broad_cmap, clean_cellprofiler, external_metadata, external_join_left, external_join_right, compression_options, float_format, cmap_args, **kwargs)\u001b[0m\n\u001b[1;32m     34\u001b[0m \u001b[38;5;250m\u001b[39m\u001b[38;5;124;03m\"\"\"Add metadata to aggregated profiles.\u001b[39;00m\n\u001b[1;32m     35\u001b[0m \n\u001b[1;32m     36\u001b[0m \u001b[38;5;124;03mParameters\u001b[39;00m\n\u001b[0;32m   (...)\u001b[0m\n\u001b[1;32m     76\u001b[0m \u001b[38;5;124;03m    data.\u001b[39;00m\n\u001b[1;32m     77\u001b[0m \u001b[38;5;124;03m\"\"\"\u001b[39;00m\n\u001b[1;32m     79\u001b[0m \u001b[38;5;66;03m# Load Data\u001b[39;00m\n\u001b[0;32m---> 80\u001b[0m profiles \u001b[38;5;241m=\u001b[39m \u001b[43mload_profiles\u001b[49m\u001b[43m(\u001b[49m\u001b[43mprofiles\u001b[49m\u001b[43m)\u001b[49m\n\u001b[1;32m     81\u001b[0m platemap \u001b[38;5;241m=\u001b[39m load_platemap(platemap, add_metadata_id_to_platemap)\n\u001b[1;32m     83\u001b[0m annotated \u001b[38;5;241m=\u001b[39m platemap\u001b[38;5;241m.\u001b[39mmerge(\n\u001b[1;32m     84\u001b[0m     profiles,\n\u001b[1;32m     85\u001b[0m     left_on\u001b[38;5;241m=\u001b[39mjoin_on[\u001b[38;5;241m0\u001b[39m],\n\u001b[0;32m   (...)\u001b[0m\n\u001b[1;32m     88\u001b[0m     suffixes\u001b[38;5;241m=\u001b[39m[\u001b[38;5;124m\"\u001b[39m\u001b[38;5;124m_platemap\u001b[39m\u001b[38;5;124m\"\u001b[39m, \u001b[38;5;28;01mNone\u001b[39;00m],\n\u001b[1;32m     89\u001b[0m )\n",
      "File \u001b[0;32m~/miniforge3/envs/cytomining/lib/python3.12/site-packages/pycytominer/cyto_utils/load.py:97\u001b[0m, in \u001b[0;36mload_profiles\u001b[0;34m(profiles)\u001b[0m\n\u001b[1;32m     94\u001b[0m         \u001b[38;5;28;01mreturn\u001b[39;00m pd\u001b[38;5;241m.\u001b[39mread_parquet(profiles, engine\u001b[38;5;241m=\u001b[39m\u001b[38;5;124m\"\u001b[39m\u001b[38;5;124mpyarrow\u001b[39m\u001b[38;5;124m\"\u001b[39m)\n\u001b[1;32m     96\u001b[0m     \u001b[38;5;28;01melse\u001b[39;00m:\n\u001b[0;32m---> 97\u001b[0m         delim \u001b[38;5;241m=\u001b[39m \u001b[43minfer_delim\u001b[49m\u001b[43m(\u001b[49m\u001b[43mprofiles\u001b[49m\u001b[43m)\u001b[49m\n\u001b[1;32m     98\u001b[0m         \u001b[38;5;28;01mreturn\u001b[39;00m pd\u001b[38;5;241m.\u001b[39mread_csv(profiles, sep\u001b[38;5;241m=\u001b[39mdelim)\n\u001b[1;32m    100\u001b[0m \u001b[38;5;28;01mreturn\u001b[39;00m profiles\n",
      "File \u001b[0;32m~/miniforge3/envs/cytomining/lib/python3.12/site-packages/pycytominer/cyto_utils/load.py:62\u001b[0m, in \u001b[0;36minfer_delim\u001b[0;34m(file)\u001b[0m\n\u001b[1;32m     49\u001b[0m \u001b[38;5;250m\u001b[39m\u001b[38;5;124;03m\"\"\"\u001b[39;00m\n\u001b[1;32m     50\u001b[0m \u001b[38;5;124;03mSniff the delimiter in the given file\u001b[39;00m\n\u001b[1;32m     51\u001b[0m \n\u001b[0;32m   (...)\u001b[0m\n\u001b[1;32m     59\u001b[0m \u001b[38;5;124;03mthe delimiter used in the dataframe (typically either tab or commas)\u001b[39;00m\n\u001b[1;32m     60\u001b[0m \u001b[38;5;124;03m\"\"\"\u001b[39;00m\n\u001b[1;32m     61\u001b[0m \u001b[38;5;28;01mtry\u001b[39;00m:\n\u001b[0;32m---> 62\u001b[0m     \u001b[38;5;28;01mwith\u001b[39;00m \u001b[38;5;28;43mopen\u001b[39;49m\u001b[43m(\u001b[49m\u001b[43mfile\u001b[49m\u001b[43m)\u001b[49m \u001b[38;5;28;01mas\u001b[39;00m csvfile:\n\u001b[1;32m     63\u001b[0m         line \u001b[38;5;241m=\u001b[39m csvfile\u001b[38;5;241m.\u001b[39mreadline()\n\u001b[1;32m     64\u001b[0m \u001b[38;5;28;01mexcept\u001b[39;00m \u001b[38;5;167;01mUnicodeDecodeError\u001b[39;00m:\n",
      "\u001b[0;31mFileNotFoundError\u001b[0m: [Errno 2] No such file or directory: '/mnt/bigdisk1/Allie_S/Replicative_Age_Project/Data_Mining/test_output/results/single_cell_profile.csv.gz'"
     ]
    }
   ],
   "source": [
    "# annotating merged single-cell profile with metadata\n",
    "annotate(\n",
    "    profiles=sc_profiles_path,\n",
    "    platemap=platemap_df,\n",
    "    join_on=[\"Metadata_Well\", \"Metadata_Field\"],\n",
    "    output_file=anno_profiles_path,\n",
    "    compression_options=\"gzip\",\n",
    ")\n",
    "single_cell_profile.merge_single_cells(\n",
    "    sc_output_file=sc_profiles_path, compression_options=\"gzip\"\n",
    ")\n",
    "\n",
    "# save message display\n",
    "print(f\"Annotated profile saved in: {anno_profiles_path}\")\n"
   ]
  },
  {
   "cell_type": "code",
   "execution_count": null,
   "id": "13635496-b7c9-47cc-ab0c-b290cb39019d",
   "metadata": {
    "deletable": true,
    "editable": true,
    "frozen": false
   },
   "outputs": [],
   "source": [
    "# normalize dataset\n",
    "normalize(\n",
    "    profiles=anno_profiles_path,\n",
    "    features=\"infer\",\n",
    "    image_features=False,\n",
    "    meta_features=\"infer\",\n",
    "    samples=\"all\",\n",
    "    method=\"standardize\",\n",
    "    output_file=norm_profiles_path,\n",
    "    compression_options=\"gzip\",\n",
    ")\n",
    "\n",
    "# save message display\n",
    "print(f\"Normalized profile saved in: {norm_profiles_path}\")\n"
   ]
  },
  {
   "cell_type": "code",
   "execution_count": null,
   "id": "2a9fd6c5-cb04-44bd-8933-3cbce2e93f59",
   "metadata": {
    "deletable": true,
    "editable": true,
    "frozen": false
   },
   "outputs": [],
   "source": [
    "# creating selected features profile\n",
    "feature_select(\n",
    "    profiles=norm_profiles_path,\n",
    "    features=\"infer\",\n",
    "    image_features=False,\n",
    "    samples=\"all\",\n",
    "    operation=[\"variance_threshold\", \"correlation_threshold\", \"blocklist\"],\n",
    "    output_file=feat_profiles_path,\n",
    "    compression_options=\"gzip\",\n",
    ")\n",
    "\n",
    "# save message display\n",
    "print(f\"Selected features profile saved in: {feat_profiles_path}\")\n"
   ]
  }
 ],
 "metadata": {
  "kernelspec": {
   "display_name": "Python 3 (ipykernel)",
   "language": "python",
   "name": "python3"
  },
  "language_info": {
   "codemirror_mode": {
    "name": "ipython",
    "version": 3
   },
   "file_extension": ".py",
   "mimetype": "text/x-python",
   "name": "python",
   "nbconvert_exporter": "python",
   "pygments_lexer": "ipython3",
   "version": "3.12.4"
  }
 },
 "nbformat": 4,
 "nbformat_minor": 5
}
