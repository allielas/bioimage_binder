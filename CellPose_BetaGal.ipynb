{
 "cells": [
  {
   "cell_type": "code",
   "execution_count": null,
   "id": "9cded124-d588-44d4-9587-018c9b4e5597",
   "metadata": {},
   "outputs": [],
   "source": [
    "import numpy as np\n",
    "import time, os, sys\n",
    "from urllib.parse import urlparse\n",
    "import matplotlib.pyplot as plt\n",
    "import matplotlib as mpl\n",
    "%matplotlib inline\n",
    "mpl.rcParams['figure.dpi'] = 300\n",
    "from cellpose import utils, io\n",
    "\n",
    "# REPLACE FILES WITH YOUR IMAGE PATHS\n",
    "files = ['img0.tif', 'img1.tif']\n",
    "\n",
    "# view 1 image\n",
    "img = io.imread(files[-1])\n",
    "plt.figure(figsize=(2,2))\n",
    "plt.imshow(img)\n",
    "plt.axis('off')\n",
    "plt.show()"
   ]
  },
  {
   "cell_type": "code",
   "execution_count": null,
   "id": "7adf6c7f-4f84-4b6e-a74e-68982f2f6e3e",
   "metadata": {},
   "outputs": [],
   "source": [
    "#For GPU\n",
    "import numpy as np\n",
    "import time, os, sys\n",
    "from urllib.parse import urlparse\n",
    "import skimage.io\n",
    "import matplotlib.pyplot as plt\n",
    "import matplotlib as mpl\n",
    "%matplotlib inline\n",
    "mpl.rcParams['figure.dpi'] = 300\n",
    "\n",
    "from urllib.parse import urlparse\n",
    "from cellpose import models, core\n",
    "\n",
    "use_GPU = core.use_gpu()\n",
    "print('>>> GPU activated? %d'%use_GPU)\n",
    "\n",
    "# call logger_setup to have output of cellpose written\n",
    "from cellpose.io import logger_setup\n",
    "logger_setup();\n"
   ]
  },
  {
   "cell_type": "markdown",
   "id": "96bf23fe-bc20-485a-bd9d-b9b41659a491",
   "metadata": {},
   "source": [
    "## Load data"
   ]
  },
  {
   "cell_type": "code",
   "execution_count": 1,
   "id": "0df6711b-060b-4811-aba6-d784e7c924e4",
   "metadata": {},
   "outputs": [
    {
     "ename": "ModuleNotFoundError",
     "evalue": "No module named 'imagej'",
     "output_type": "error",
     "traceback": [
      "\u001b[0;31m---------------------------------------------------------------------------\u001b[0m",
      "\u001b[0;31mModuleNotFoundError\u001b[0m                       Traceback (most recent call last)",
      "Cell \u001b[0;32mIn[1], line 2\u001b[0m\n\u001b[1;32m      1\u001b[0m \u001b[38;5;66;03m#Make sure pyimageJ is installed\u001b[39;00m\n\u001b[0;32m----> 2\u001b[0m \u001b[38;5;28;01mimport\u001b[39;00m \u001b[38;5;21;01mimagej\u001b[39;00m\n\u001b[1;32m      3\u001b[0m ij \u001b[38;5;241m=\u001b[39m imagej\u001b[38;5;241m.\u001b[39minit(\u001b[38;5;124m'\u001b[39m\u001b[38;5;124msc.fiji:fiji\u001b[39m\u001b[38;5;124m'\u001b[39m) \u001b[38;5;66;03m#or locally ij = imagej.init('path/to/Applications/Fiji.app')\u001b[39;00m\n\u001b[1;32m      4\u001b[0m jcells \u001b[38;5;241m=\u001b[39m ij\u001b[38;5;241m.\u001b[39mio()\u001b[38;5;241m.\u001b[39mopen(\u001b[38;5;124m'\u001b[39m\u001b[38;5;124m/path/to/my/cells.ome.tif\u001b[39m\u001b[38;5;124m'\u001b[39m)\n",
      "\u001b[0;31mModuleNotFoundError\u001b[0m: No module named 'imagej'"
     ]
    }
   ],
   "source": [
    "#Make sure pyimageJ is installed\n",
    "import imagej\n",
    "ij = imagej.init('sc.fiji:fiji') #or locally ij = imagej.init('path/to/Applications/Fiji.app')\n",
    "jcells = ij.io().open('/path/to/my/cells.ome.tif')\n",
    "cells = ij.py.from_java(jcells)\n",
    "\n",
    "import napari\n",
    "napari.view_image(cells)\n",
    "napari.run()"
   ]
  },
  {
   "cell_type": "markdown",
   "id": "05cf4bb8-1b32-4aa2-a9dd-511789b79a6f",
   "metadata": {},
   "source": [
    "# RUN CELLPOSE"
   ]
  },
  {
   "cell_type": "code",
   "execution_count": null,
   "id": "6442a69f-cf87-41da-a026-7e1396524d35",
   "metadata": {},
   "outputs": [],
   "source": [
    "from cellpose import models, io\n",
    "\n",
    "# DEFINE CELLPOSE MODEL\n",
    "# model_type='cyto' or model_type='nuclei'\n",
    "model = models.Cellpose(gpu=False, model_type='cyto')\n",
    "\n",
    "# define CHANNELS to run segementation on\n",
    "# grayscale=0, R=1, G=2, B=3\n",
    "# channels = [cytoplasm, nucleus]\n",
    "# if NUCLEUS channel does not exist, set the second channel to 0\n",
    "# channels = [0,0]\n",
    "# IF ALL YOUR IMAGES ARE THE SAME TYPE, you can give a list with 2 elements\n",
    "# channels = [0,0] # IF YOU HAVE GRAYSCALE\n",
    "# channels = [2,3] # IF YOU HAVE G=cytoplasm and B=nucleus\n",
    "# channels = [2,1] # IF YOU HAVE G=cytoplasm and R=nucleus\n",
    "\n",
    "# or if you have different types of channels in each image\n",
    "channels = [[2,3], [0,0], [0,0]]\n",
    "\n",
    "# if diameter is set to None, the size of the cells is estimated on a per image basis\n",
    "# you can set the average cell `diameter` in pixels yourself (recommended) \n",
    "# diameter can be a list or a single number for all images\n",
    "\n",
    "# you can run all in a list e.g.\n",
    "# >>> imgs = [io.imread(filename) in for filename in files]\n",
    "# >>> masks, flows, styles, diams = model.eval(imgs, diameter=None, channels=channels)\n",
    "# >>> io.masks_flows_to_seg(imgs, masks, flows, diams, files, channels)\n",
    "# >>> io.save_to_png(imgs, masks, flows, files)\n",
    "\n",
    "# or in a loop\n",
    "for chan, filename in zip(channels, files):\n",
    "    img = io.imread(filename)\n",
    "    masks, flows, styles, diams = model.eval(img, diameter=None, channels=chan)\n",
    "\n",
    "    # save results so you can load in gui\n",
    "    io.masks_flows_to_seg(img, masks, flows, diams, filename, chan)\n",
    "\n",
    "    # save results as png\n",
    "    io.save_to_png(img, masks, flows, filename)"
   ]
  },
  {
   "cell_type": "markdown",
   "id": "b8858f11-07c1-4948-952b-a6993ff987f3",
   "metadata": {},
   "source": [
    "# DISPLAY RESULTS"
   ]
  },
  {
   "cell_type": "code",
   "execution_count": null,
   "id": "725c9969-77c8-451b-b8e7-3e4d8da97280",
   "metadata": {},
   "outputs": [],
   "source": [
    "from cellpose import plot\n",
    "\n",
    "fig = plt.figure(figsize=(12,5))\n",
    "plot.show_segmentation(fig, img, masks, flows[0], channels=chan)\n",
    "plt.tight_layout()\n",
    "plt.show()\n"
   ]
  },
  {
   "cell_type": "markdown",
   "id": "4a3825e7-a9bd-4524-8154-b7660ce17072",
   "metadata": {},
   "source": [
    "# Save Data"
   ]
  },
  {
   "cell_type": "code",
   "execution_count": null,
   "id": "c5a3c596-19f4-4783-b41f-9857d974ddcf",
   "metadata": {},
   "outputs": [],
   "source": [
    "io.save_masks(images, \n",
    "              masks, \n",
    "              flows, \n",
    "              files, \n",
    "              channels=[chan, chan2],\n",
    "              png=True, # save masks as PNGs and save example image\n",
    "              save_txt=True, # save txt outlines for ImageJ\n",
    "              save_mpl=True # make matplotlib fig to view (WARNING: SLOW W/ LARGE IMAGES)\n",
    "              )"
   ]
  }
 ],
 "metadata": {
  "kernelspec": {
   "display_name": "Python 3 (ipykernel)",
   "language": "python",
   "name": "python3"
  },
  "language_info": {
   "codemirror_mode": {
    "name": "ipython",
    "version": 3
   },
   "file_extension": ".py",
   "mimetype": "text/x-python",
   "name": "python",
   "nbconvert_exporter": "python",
   "pygments_lexer": "ipython3",
   "version": "3.12.4"
  }
 },
 "nbformat": 4,
 "nbformat_minor": 5
}
