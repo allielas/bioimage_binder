import math
import os
import pandas as pd
import numpy as np



#calculate passage number when I ran out of passage 5 vials ;;
def passage_number(time):
    base_vial = 6
    if time > 2:
        base_vial = base_vial-1 
    rep = base_vial + (3 * time)
    return rep



def well_namer(row, col):
    well_name = str(chr(ord('@')+ row)) + str(col).rjust(2, '0')  #make the number have a left align, adding a zero
    return well_name




#Get 96-well plate CSV file from benchiling   NOTE: don't initialze an empty df, use a list and convert after.

plate_path = '/Users/allielas/ML_Sandbox/nov12plate.csv' #'/home/mattiazzilab/Documents/Allie_Scripts/May 8 seeding.csv'
raw_plate_df = pd.read_csv(plate_path, header=0, usecols=range(1,13)).dropna(axis=1,how='all')
plate_df = raw_plate_df.dropna(axis=0, how = 'any')
print(plate_df.shape) #Checks if correct number of rows and columns

columns_row = plate_df.columns  # Extract the column number row
plate_map_df = pd.DataFrame(columns = ['Metadata_Well', 'Metadata_WellRow', 'Metadata_WellColumn', 'Metadata_Field',
                              'TimepointName', 'Replicate', 'Time', 'PassageNumber', 'Staining', 'Drug'])

plate_df.head(13)
#print(columns_row)


for index,data in plate_df.iterrows():
    row = data.to_list()
    for count,value in enumerate(row):
        curr_well = value
        row_list = []
        # get string data and label of row in df (e.g. col1, text= R1T0 EAA1-488 Tfn-647)
        # regex to separate into different variables
        # then add them to dict with their respective col index (label) and index of the row in the column (column.index)
        for i in range(40):
            
            row_entry = {}
            
            row_index = index+1  #Make it 1-indexed
            column_index = columns_row[count]  # Use header row for column index
            print(column_index)
           
            if ~np.isnan(row_index): 
                well_name = well_namer(row_index, column_index)
            else:
                well_name = 'Empty'
            

            text = curr_well.split(' ')
            rep = text[0][1:2]
            time = text[1][1:2]
            passage_num = text[2][1:3] #passage_number(Int(time)) - use the function if you don;t have passage number in the table
            name = text[0] + ' ' + text[1]
            stains = ' '.join(text[3:len(text)]) #Use if 3 passage number is in the table values
            ika = "IKA" in text          
            
    
            field = i+1 #information for the field is just 1-40, nothing else changes

            #print(name, rep, time, passage_num, field, stains, ika, sep=',') 
    
            row_entry.update({'Metadata_Well': well_name, 'Metadata_WellRow': row_index, 'Metadata_WellColumn': column_index, 'Metadata_Field': field,
                              'TimepointName':name, 'Replicate': rep, 'Time': time, 'PassageNumber': passage_num, 'Staining': stains, 'Drug': ika })

            row_list.append(row_entry)
            
        rows = pd.DataFrame(row_list)
        plate_map_df = pd.concat([plate_map_df, rows],ignore_index=True)
        #column_index = column_index+1
        export_path = '/Users/allielas/ML_Sandbox/'#'/mnt/bigdisk1/Allie_S/Replicative_Age_Project/Data Mining/metadata/'

plate_map_df.to_csv(export_path + 'map.csv', index=False)




num = 11
padded_num = str(num).rjust(2, '0')
print(padded_num)



