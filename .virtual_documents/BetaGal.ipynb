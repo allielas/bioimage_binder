import numpy as np
import pandas as pd
import seaborn as sns
import matplotlib.pyplot as plt
%matplotlib inline



# Load the CSV files into a pandas DataFrame
df_r1 = pd.read_csv('/Users/allielas/Desktop/Active Projects/Image Analysis/BetaGalData/BetaGal_Concentrations - Summary_R1.csv')
df_r2 = pd.read_csv('/Users/allielas/Desktop/Active Projects/Image Analysis/BetaGalData/BetaGal_Concentrations - Summary_R2.csv')

#add the replicate number to each df and concatenate them into the main df
df_r1["Replicate"] = "r1"
df_r2["Replicate"] = "r2"
df = pd.concat([df_r1,df_r2], ignore_index=True)

df.tail()


#Now make a column to group by Doxo and its control (DMSO) and H2O2 and its control (water)

df["Experiment"] = df["Condition"].apply(lambda x: "Doxorubicin" if x == "DMSO" or x == "Doxo" else "H2O2")
#Also remove nans to make it so Concentration has a control value
df['Concentration'] = df['Concentration'].fillna('Control')

# Define the order of the categories
doxo_conc_order = ['Control', '25nM', '50nM', '100nM', '200nM', '250nM', '300nM']
peroxide_conc_order = ['Control','25µM', '50µM', '100µM', '200µM', '300µM', '400µM']
full_order = ['Control','25nM', '50nM', '100nM', '200nM', '250nM', '300nM','25µM', '50µM', '100µM', '200µM', '300µM', '400µM']

# can also do subset_df = df[df['Condition'].isin(['A', 'B'])]
doxo_df = df[df['Experiment'].isin(['Doxorubicin'])]
peroxide_df = df[df['Experiment'].isin(['H2O2'])]
# filter DFs to only have their categories
doxo_df['Concentration'] = pd.Categorical(doxo_df['Concentration'], categories=doxo_conc_order, ordered=True)
peroxide_df['Concentration'] = pd.Categorical(peroxide_df['Concentration'], categories=peroxide_conc_order, ordered=True)
df['Concentration'] = pd.Categorical(df['Concentration'], categories=full_order, ordered=True)



#df['Category'] = df['Condition'].apply(lambda x: 'High' if x == 'A' else 'Medium' if x == 'B' else 'Low')



# Create the figure and axis bar plot using seaborn and matplotlib
#fig, ax = plt.subplots(figsize=(11, 6))

#initiate the seaborn barplot
sns.set_context("notebook")
sns.catplot(data=df, x="Condition", y="% Positive", hue = "Condition", kind="swarm")

# Add labels and title
#ax.set_xlabel("Total BetaGal Positive")
#ax.set_ylabel("Density")
#ax.set_title("Replicat")


# Display the plot
plt.show()


#Helper function to make the plot
def betagal_barplot(ax,data,x,y,palette):
    g = sns.boxplot(ax=ax, data=data, x=x, y=y, hue = x, palette=palette)
    ax.set_ylim([0,100])
    ax.set_xlabel("Concentration", fontsize="large")
    ax.set_ylabel("Percent β-gal Positive",fontsize="large")
    ax.set_title(data['Experiment'].values[0] + ' ' + data['Replicate'].values[0])
    return g


#Make a side by side plot for each experiment type only
#fig,axs = plt.subplots(nrows=2)
sns.catplot(data=doxo_df, x="Concentration", y="% Positive", hue = "Concentration", col ="Replicate", kind="bar", palette="pastel")
plt.ylim([0,100])

#plt.savefig("/Users/allielas/Desktop/Active Projects/Image Analysis/BetaGalData/dmsoplots.png")
sns.catplot(data=peroxide_df, x="Concentration", y="% Positive", hue = "Concentration", col = "Replicate", kind="bar")

#plt.savefig("/Users/allielas/Desktop/Active Projects/Image Analysis/BetaGalData/h2o2plots.png")
plt.ylabel("Percent Positive Per Image")
plt.show()


#Make a side by side plot for each experiment type only
fig,axs = plt.subplots(2,2,sharey=True, layout='constrained')
fig.set_size_inches(10,8)

betagal_barplot(axs[0,0],data=doxo_df[doxo_df['Replicate'] == 'r1'],x="Concentration",y="% Positive",palette='pastel')
betagal_barplot(axs[0,1],data=doxo_df[doxo_df['Replicate'] == 'r2'],x="Concentration",y="% Positive",palette='pastel')

betagal_barplot(axs[1,0],data=peroxide_df[peroxide_df['Replicate'] == 'r1'],x="Concentration",y="% Positive",palette='Set2')
betagal_barplot(axs[1,1],data=peroxide_df[peroxide_df['Replicate'] == 'r2'],x="Concentration",y="% Positive",palette='Set2')

#plt.tight_layout()
sns.despine()
plt.show()
fig.savefig("/Users/allielas/Desktop/Active Projects/Image Analysis/BetaGalData/4x4boxplots.png")



sns.catplot(data=df, x="Concentration", y="% Positive", hue = "Concentration", row = 'Experiment',col = "Replicate", kind="bar", palette="Set2")
plt.tight_layout()
plt.show()
plt.savefig("/Users/allielas/Desktop/Active Projects/Image Analysis/BetaGalData/4x4.png")





#Make a plot with average Total BetaGal Positive per concentration per condtion using a groupby function
# Group by concentration category,replicate and calculate the average percentage
average_positive_doxo = doxo_df.groupby(['Concentration','Replicate']).agg({'Total BetaGal Positive':'sum','Total Cells':'sum'}).reset_index()
average_positive_doxo['Percent Positive'] = average_positive_doxo['Total BetaGal Positive'] / average_positive_doxo['Total Cells'] * 100

average_positive_h2o2 = peroxide_df.groupby(['Concentration','Replicate']).agg({'Total BetaGal Positive':'sum','Total Cells':'sum'}).reset_index()
average_positive_h2o2['Percent Positive'] = average_positive_h2o2['Total BetaGal Positive'] / average_positive_h2o2['Total Cells'] * 100


sns.catplot(data=average_positive_doxo, x="Concentration", y="Percent Positive", hue ="Replicate", kind="bar", palette='Set1')
sns.catplot(data=average_positive_h2o2, x="Concentration", y="Percent Positive", hue ="Replicate", kind="bar", palette='Set2')

plt.show()


sns.relplot(data=df, x="Total Cells", y="Total BetaGal Positive", hue = "Condition", style ="Replicate", kind = "scatter")
plt.show()


sns.pairplot(data=df)
plt.show()



