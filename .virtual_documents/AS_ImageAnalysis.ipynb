# @title
!pip install kaleido
!pip install plotly>=4.0.0
!wget https://github.com/plotly/orca/releases/download/v1.2.1/orca-1.2.1-x86_64.AppImage -O /usr/local/bin/orca
!chmod +x /usr/local/bin/orca
!apt-get install xvfb libgtk2.0-0 libgconf-2-4
import matplotlib.colors as mcolors
from matplotlib.patches import Rectangle
import math
import pandas as pd
import numpy as np
import plotly.express as px
import plotly.graph_objects as go
import matplotlib.pyplot as plt
import seaborn as sns
!pip install joypy
import joypy
import scipy
from scipy import stats
from scipy.stats import f_oneway
from statsmodels.stats.multicomp import pairwise_tukeyhsd
from sklearn.ensemble import IsolationForest


from google.colab import drive # just give permission to export data from your drive
drive.mount('/content/drive')





image_df = pd.read_csv('/content/drive/MyDrive/LabDocuments/MitoLyso_Mar13/image_df_merged.csv')
lysosomes_df = pd.read_csv('/content/drive/MyDrive/LabDocuments/MitoLyso_Mar13/lyso_df_merged.csv')
map_df = pd.read_csv('/content/drive/MyDrive/LabDocuments/MitoLyso_Mar13/map (1).csv')
mito_df = pd.read_csv('/content/drive/MyDrive/LabDocuments/MitoLyso_Mar13/mito_df_merged.csv')
nuclei_df = pd.read_csv('/content/drive/MyDrive/LabDocuments/MitoLyso_Mar13/nuclei_df_merged.csv')
outline_df = pd.read_csv('/content/drive/MyDrive/LabDocuments/MitoLyso_Mar13/outline_df_merged.csv')





image_df = pd.read_csv('/content/drive/MyDrive/LabDocuments/ EEA1_TFN_Mar13/image_df_merged.csv')
endosomes_df = pd.read_csv('/content/drive/MyDrive/LabDocuments/ EEA1_TFN_Mar13/endosome_df_merged.csv')
map_df = pd.read_csv('/content/drive/MyDrive/LabDocuments/ EEA1_TFN_Mar13/eea1_map.csv')
outline_df = pd.read_csv('/content/drive/MyDrive/LabDocuments/ EEA1_TFN_Mar13/outline_df_merged.csv')

for df in [outline_df, image_df, endosomes_df]:
    df['Time'] = df['Time'].astype(int)


#want endosome int/ whole cell int in plot





for df in [mito_df, nuclei_df, outline_df, image_df, lysosomes_df]:

    df['Time'] = df['Time'].astype(int)





def normalization(df, column): #normalizing intensity from 0 to 1
  min_intensity = df[column].min()
  max_intensity = df[column].max()
  df[column] = (df[column] - min_intensity) / (max_intensity - min_intensity)
  return df[column]

def mad_normalization(df, column):

  mad = scipy.stats.median_abs_deviation(df[column])
  outlier_mask = np.abs(df[column] - df[column].median()) > mad*1.5
  cleaned_df = df[~outlier_mask]
  #recalaculate mad and make a mask of mads that go over the threshold (then negate them)
  return cleaned_df[column]

def outlier_removal(df, column):
    # Create a copy of the column and the 'Time' column

    if 'Ikarugamycin' in df: #remove this for now
      filtered_df = df[df['Drug'] != 'Ikarugamycin']

      column_copy = filtered_df[column].copy()
      time_column = filtered_df['Time'].copy()
      parent_column = filtered_df['Parent_Nuclei'].copy()

      mini_df = pd.DataFrame({column: column_copy,'Time': time_column,'Parent_Nuclei' : parent_column})
      mini_df = mini_df.dropna()
    else:
      column_copy = df[column].copy()
      time_column = df['Time'].copy()
       # Create a mini DataFrame with the column and 'Time' values
      mini_df = pd.DataFrame({column: column_copy, 'Time': time_column})
      mini_df = mini_df.dropna()

    #remove values for each type of data
    if df.equals(nuclei_df):
      # remove stuff within the range of t4
      four_mean = np.mean(column_copy[df['Time'] == 4])
      std_dev = np.std(column_copy[df['Time'] == 4])
      threshold = four_mean + (3 * std_dev)

      mini_df = mini_df[mini_df[column] <= threshold]
      mini_df = mini_df.reset_index(drop=True)


    if 'AreaShape' in column:
      mini_df[column] = mini_df[column].astype(float)
      mini_df = mini_df.loc[(mini_df[column] <= 300000) & (mini_df[column] > 0)]
      mini_df = mini_df.reset_index(drop=True)

    if 'Texture' in column:
      mini_df[column] = mini_df[column].astype(float)
      mini_df = mini_df.loc[(mini_df[column] <= 200) & (mini_df[column] > 0)]
      mini_df = mini_df.reset_index(drop=True)


      # Calculate top and bottom percentiles for Time == 0
    p1 = np.percentile(mini_df[column], 5)
    p3 = np.percentile(mini_df[column], 95)

    # Filter out values greater than 3IQR from Q1 or Q3
    filtered_mini_df = mini_df.loc[(mini_df[column] >= p1) & (mini_df[column] <= p3)]
    #Train outlier detection algorithm on non-images csvs
    if df.dropna().equals(image_df.dropna()):
    #pd.testing.assert_frame_equal(df,image_df):
      return filtered_mini_df
    else:
      cleaned_df = []
      groups = filtered_mini_df['Time'].unique()
      for group in groups:

        group = int(group)
        group_mini_df = filtered_mini_df[filtered_mini_df['Time'] == group]

        X_1D = group_mini_df[column].values
        X = X_1D.reshape(-1, 1)
        clf = IsolationForest(n_estimators=20, random_state=42, contamination='auto')
        clf.fit(X)  # fit 20 trees

        #Predict outliers and remove from X
        preds = clf.predict(X)
        outlier_indices = np.where(preds == -1)[0]
        # Create a masked df for each group to block out the values of outliers from the original dataset (use ~ to negate outliers so they can be removed)
        cleaned_group_df = group_mini_df.loc[~group_mini_df.index.isin(outlier_indices)]
        #add the masked df to the list
        cleaned_df.append(cleaned_group_df)

      cleaned_df = pd.concat(cleaned_df, ignore_index=True) #collapse list into df
    return pd.DataFrame(cleaned_df)



# if df.equals(mito_df) or df.equals(lysosomes_df):
# if df[Parents] == nuclei_df[ObjectNumber]. - only have the above if
#if 'Area' in column:
# Calculate mean and standard deviation for Time == 4


# add ratio column permanantly to outline column (size and intensity ratio)
mini_endosomes = endosomes_df[['Parent_Nuclei','Intensity_MeanIntensity_CompensatedTfn','Time']]
mini_outline = outline_df[['Parent_Nuclei','Intensity_MeanIntensity_CompensatedTfn','Time']]

mini_endosomes_filter = outlier_removal(mini_endosomes,'Intensity_MeanIntensity_CompensatedTfn')
mini_outline_filter = outlier_removal(mini_outline,'Intensity_MeanIntensity_CompensatedTfn')

endo_agg = mini_endosomes_filter.groupby('Parent_Nuclei')['Intensity_MeanIntensity_CompensatedTfn'].sum()
cell_agg = mini_outline_filter.groupby('Parent_Nuclei')['Intensity_MeanIntensity_CompensatedTfn'].sum()

merged_df = pd.merge(endo_agg, cell_agg, on='Parent_Nuclei', how='outer')

#merged_df['Intensity_Ratio'] = merged_df['Intensity_MeanIntensity_CompensatedTfn_x'] / merged_df['Intensity_MedianIntensity_CompensatedTfn_y']

merged_df.head(200)


endosomes_df.loc[endosomes_df['Parent_Nuclei'] > 0]






def normalization(df, column): #normalizing intensity from 0 to 1
  min_intensity = df[column].min()
  max_intensity = df[column].max()
  df[column] = (df[column] - min_intensity) / (max_intensity - min_intensity)
  return df[column]

def z_normalization(df, column):

  df[column] = df[column] - df[column].mean() / df[column].std()
  return df[column]

#median absolute deviation; normalize using median version of standard deviation
def mad_normalization(df, column):

  mad = scipy.stats.median_abs_deviation(df[column])
  outlier_mask = np.abs(df[column] - df[column].median()) > mad*1.5
  cleaned_df = df[~outlier_mask]
  #recalaculate mad and make a mask of mads that go over the threshold (then negate them)
  return cleaned_df[column]

def outlier_removal(df, column):



    # Create a copy of the column and the 'Time' column
    column_copy = df[column].copy()
    time_column = df['Time'].copy()

    # Create a mini DataFrame with the column and 'Time' values
    mini_df = pd.DataFrame({column: column_copy, 'Time': time_column})
    mini_df = mini_df.dropna()

    #remove values for each type of data
    if df.equals(nuclei_df):
      # remove stuff within the range of t4
      four_mean = np.mean(column_copy[df['Time'] == 4])
      std_dev = np.std(column_copy[df['Time'] == 4])
      threshold = four_mean + (3 * std_dev)

      mini_df = mini_df[mini_df[column] <= threshold]
      mini_df = mini_df.reset_index(drop=True)


    if 'AreaShape' in column:
      mini_df[column] = mini_df[column].astype(float)
      mini_df = mini_df.loc[(mini_df[column] <= 300000) & (mini_df[column] > 0)]
      mini_df = mini_df.reset_index(drop=True)

    if 'Texture' in column:
      mini_df[column] = mini_df[column].astype(float)
      mini_df = mini_df.loc[(mini_df[column] <= 200) & (mini_df[column] > 0)]
      mini_df = mini_df.reset_index(drop=True)

      # Calculate top and bottom percentiles for Time == 0
    p1 = np.percentile(mini_df[column], 5)
    p3 = np.percentile(mini_df[column], 95)

    # Filter out values greater than 3IQR from Q1 or Q3
    filtered_mini_df = mini_df.loc[(mini_df[column] >= p1) | (mini_df[column] <= p3)]
    filtered_mini_df = filtered_mini_df.reset_index(drop=True)

    #Train outlier detection algorithm on non-images csvs
    if df.dropna().equals(image_df.dropna()):
    #pd.testing.assert_frame_equal(df,image_df):
      return filtered_mini_df
    else:
      cleaned_df = []
      groups = filtered_mini_df['Time'].unique()
      for group in groups:

        group = int(group)
        group_mini_df = filtered_mini_df[filtered_mini_df['Time'] == group]

        X_1D = group_mini_df[column].values
        X = X_1D.reshape(-1, 1)
        clf = IsolationForest(n_estimators=20, random_state=42, contamination='auto')
        clf.fit(X)  # fit 20 trees

        #Predict outliers and remove from X
        preds = clf.predict(X)
        outlier_indices = np.where(preds == -1)[0]
        # Create a masked df for each group to block out the values of outliers from the original dataset (use ~ to negate outliers so they can be removed)
        cleaned_group_df = group_mini_df.loc[~group_mini_df.index.isin(outlier_indices)]
        #add the masked df to the list
        cleaned_df.append(cleaned_group_df)

      cleaned_df = pd.concat(cleaned_df, ignore_index=True) #collapse list into df
    return pd.DataFrame(cleaned_df)


stats_cols = ['AreaShape_Area','AreaShape_ConvexArea','Intensity_MedianIntensity_CompensatedTfn','Intensity_MeanIntensity_CompensatedTfn']


def stats(df, cols, excel_name):
    with pd.ExcelWriter(excel_name) as writer:

      for column in cols:
        temp_copy = df.copy()  # Create a copy of the DataFrame for processing

        if 'Intensity' in column:
          temp_copy[column] = normalization(temp_copy, column)
          temp_copy = outlier_removal(temp_copy, column)
        else:
          temp_copy[column] = mad_normalization(temp_copy, column)

          temp_copy = outlier_removal(temp_copy, column)

        # Perform pairwise Tukey's HSD test
        tukey = pairwise_tukeyhsd(endog=temp_copy[column], groups=temp_copy['Time'])

        # Extract relevant results
        results = np.array(tukey.summary().data)[:, [0, 1, 3, 6]]
        df_results = pd.DataFrame(results, columns=['Group 1', 'Group 2', 'p-value', 'Reject']).drop([0])
        df_results.reset_index(drop=True, inplace=True)
        df_results[['Group 1', 'Group 2']] = df_results[['Group 1', 'Group 2']].astype(int)
        df_results['p-value'] = df_results['p-value'].astype(float)
        # Truncate the column name if it exceeds 31 characters
        name = column[:31]

        # Save DataFrame to Excel sheet without the index column
        df_results.to_excel(writer, sheet_name=name, index=False)



stats(endosomes_df, # dataframe name: mito_df, nuclei_df, image_df, outline_df, lysosomes_df
      stats_cols, # list of columns specified in the cell right above, modify to make it work for a specific dataset
      'endo_stats.xlsx') # name of the excel file you are gonna save stats to


def make_layout(xtitle,ytitle):
  design = go.Layout(
        plot_bgcolor="#FFF",
        xaxis=dict(
            title=xtitle,
            linecolor="black",
            showgrid=False,
            titlefont=dict(size=20),
            tickfont=dict(size=16, color="black")
        ),
        yaxis=dict(
            title=ytitle,
            linecolor="black",
            showgrid=False,
            titlefont=dict(size=20),
            tickfont=dict(size=16, color="black")
        ),
        font=dict(size=14),
        legend=dict(
            title="",
            itemsizing='constant',
            font=dict(size=16, color="black"),
            tracegroupgap=10,
            traceorder='normal',
            orientation="h",
            yanchor="bottom",
            y=1.02,
            xanchor="right",
            x=1
        ),
        boxgap=0.4,
        boxgroupgap=0.05,
        width=900,  # Specify width of the plot
        height=600
    )
  return design


def box_param(fig, color, design):
  fig.update_traces(boxmean=True)
  fig.update_traces(jitter=1.0)
  fig.update_traces(boxpoints=False)
  fig.update_layout(design)
  fig.update_traces({'opacity': 0.9})
  fig.update_traces(marker_color=color)
  return fig


def boxplot(df, variable, ytitle, xtitle, box_color, save=False, save_name=None):
    # #some styling stuff
  layout = make_layout(xtitle,ytitle)
  temp_copy = df.copy()
  if 'Intensity' in variable:
    temp_copy = outlier_removal(temp_copy, variable)
    temp_copy[variable] = normalization(temp_copy, variable)

  else:
    temp_copy = outlier_removal(temp_copy, variable)
    temp_copy[variable] = mad_normalization(temp_copy, variable)


  fig = px.box(temp_copy, x="Time", y=variable)
  fig = box_param(fig, box_color, layout)
  fig.update_traces(quartilemethod="linear")
  fig.show

  if save==True:
      fig.write_image(save_name)



def ratioCalc(df1, df2):
  int1 = df1['Intensity_MedianIntensity_CompensatedTfn']
  int2 = df2['Intensity_MedianIntensity_CompensatedTfn']

  temp_copy1 = outlier_removal(df1, int1)
  temp_copy2 = outlier_removal(df2, int2)

  intensity_ratio = temp_copy1[int1] / temp_copy1[int2]
  return df[intensity_ratio]


px.histogram(outlier_removal(lysosomes_df,'Intensity_MedianIntensity_LAMP1'), x='Intensity_MedianIntensity_LAMP1', color = 'Time')





boxplot(endosomes_df, # dataframe name: mito_df, nuclei_df, image_df, outline_df, lysosomes_df
        'Intensity_MeanIntensity_CompensatedTfn', # the variable you wanna plot, column name
        'Tfn Mean Intensity (Endosomal)',# name of your y-axis (custom)
        'Time Point',#name of your x-axis (custom)
        'lightcoral', # color of the boxes
        save=True, # if wanna save change to False to True, False is default
        save_name='tfn_eea1_intensity_Mean_box.png') #specify the name of the plot that you save

        #'AreaShape_Area','AreaShape_ConvexArea','AreaShape_Eccentricity','Texture_Contrast_LAMP1_3_01_256', 'Texture_SumVariance_LAMP1_3_00_256',
    #'Intensity_MeanIntensity_LAMP1' , 'Intensity_MedianIntensity_LAMP1','Metadata_Well'





!pip install numba
!pip install umap-learn
import numpy as np
from sklearn.datasets import load_digits
from sklearn.model_selection import train_test_split
from sklearn.preprocessing import StandardScaler
import matplotlib.pyplot as plt
import seaborn as sns
import pandas as pd
import umap



def umap_plot(df, column, title='', save=False, save_name=None):

  trimmed_df = df.drop(columns=['Metadata_Well','Metadata_WellRow','Metadata_WellColumn','Metadata_Field','TimepointName','Replicate','Time'])
  #remove categorical data
  df_data = outlier_removal(df,column)
  target = df['Time']

  reducer = umap.UMAP()
  scaled_df_data = reducer.fit_transform(df_data)

  embedding = reducer.fit_transform(df_data, y=target)
  embedding.shape

  classes = [1,2,3,4,5] #times

  fig, ax = plt.subplots(1, figsize=(14, 10))
  plt.scatter(*embedding.T, s=0.3, c=target, cmap='Spectral', alpha=1.0)
  plt.setp(ax, xticks=[], yticks=[])
  cbar = plt.colorbar(boundaries=np.arange(11)-0.5)
  cbar.set_ticks(np.arange(5))
  cbar.set_ticklabels(classes)
  plt.gca().set_aspect('equal', 'datalim')
  plt.title(title, fontsize=24)
  plt.show


  if save==True:
      plt.savefig(save_name)






umap_plot(mito_df, column='AreaShape_Area',title='Mito_UMAP', save=True, save_name='Image_UMAP.png')


def ridge_plot(df, variable, x_title, y_title, colors, save=False, save_name=None):
  temp_copy = df.copy()
  if 'Intensity' in variable:
    temp_copy = outlier_removal(temp_copy, variable)
    temp_copy[variable] = normalization(temp_copy, variable)
  else:
    temp_copy = outlier_removal(temp_copy, variable)
    temp_copy[variable] = mad_normalization(temp_copy, variable)

  fig, axes = joypy.joyplot(df,
                               by=['Time'],
                               column=[variable],
                               alpha=0.85,
                               linecolor="grey",
                               figsize=(10, 6),
                               color=colors,
                               fade=True)

  for i, ax in enumerate(axes):
        tick_labels_y = [tick.get_text().strip("()").replace(",", "") for tick in ax.get_yticklabels()]
        ax.set_yticklabels(tick_labels_y)
        ax.set_xlabel(x_title, fontsize=16, labelpad=20, x=0.5)
        ax.tick_params(axis='y', labelsize=12)
        ax.tick_params(axis='x', labelsize=12)
        ax.set_xlim(0, 1000)

  fig.text(-0.02, 0.5, 'Time Point', fontsize=16, va='center', rotation='vertical')

  return plt.show()






import warnings
warnings.filterwarnings("ignore")
ridge_plot(mito_df, # dataframe name: mito_df, nuclei_df, image_df, outline_df, lysosomes_df
          'AreaShape_Area', #the variable you wanna plot: cell_intensity, patches_intensity, cell_count, patches_area
          'Mito Area',#name of your y-axis
          'Time Point',
          colors=['dodgerblue','grey','mediumseagreen','lightcoral','khaki'])
