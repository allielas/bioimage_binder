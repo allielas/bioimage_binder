import numpy as np 
import pandas as pd
import math
import os
from pathlib import Path


lyso = Path("/mnt/bigdisk1/Allie_S/Replicative_Age_Project/CP_Output/Mar13_mitolyso_v5/AS_Lysosomes.csv")

lyso_df = pd.read_csv(lyso)



