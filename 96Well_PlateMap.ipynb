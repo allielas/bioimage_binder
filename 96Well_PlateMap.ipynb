{
 "cells": [
  {
   "cell_type": "code",
   "execution_count": 1,
   "id": "954ba80c-8b97-4197-bf9f-8f270eaef611",
   "metadata": {},
   "outputs": [],
   "source": [
    "import math\n",
    "import os\n",
    "import pandas as pd\n",
    "import numpy as np\n"
   ]
  },
  {
   "cell_type": "code",
   "execution_count": 2,
   "id": "4fb110b6-1789-494e-86a5-5f46ed7d7b0f",
   "metadata": {},
   "outputs": [],
   "source": [
    "#calculate passage number when I ran out of passage 5 vials ;;\n",
    "def passage_number(time):\n",
    "    base_vial = 6\n",
    "    if time > 2:\n",
    "        base_vial = base_vial-1 \n",
    "    rep = base_vial + (3 * time)\n",
    "    return rep\n",
    "\n",
    "\n",
    "\n",
    "def well_namer(row, col):\n",
    "    well_name = str(chr(ord('@')+ row)) + str(col).rjust(2, '0')  #make the number have a left align, adding a zero\n",
    "    return well_name\n",
    "\n"
   ]
  },
  {
   "cell_type": "code",
   "execution_count": 7,
   "id": "55db1be5-2319-48d2-b8f9-b3a923aa1429",
   "metadata": {},
   "outputs": [
    {
     "name": "stdout",
     "output_type": "stream",
     "text": [
      "(6, 9)\n"
     ]
    }
   ],
   "source": [
    "#Get 96-well plate CSV file from benchiling   NOTE: don't initialze an empty df, use a list and convert after.\n",
    "\n",
    "plate_path = '/Users/allielas/ML_Sandbox/nov12plate.csv' #'/home/mattiazzilab/Documents/Allie_Scripts/May 8 seeding.csv'\n",
    "export_path = '/Users/allielas/ML_Sandbox/'#'/mnt/bigdisk1/Allie_S/Replicative_Age_Project/Data Mining/metadata/'\n",
    "\n",
    "\n",
    "raw_plate_df = pd.read_csv(plate_path, header=0, usecols=range(1,13)).dropna(axis=1,how='all')\n",
    "plate_df = raw_plate_df.dropna(axis=0, how = 'any')\n",
    "print(plate_df.shape) #Checks if correct number of rows and columns\n",
    "\n",
    "columns_row = plate_df.columns  # Extract the column number row\n",
    "plate_map_df = pd.DataFrame(columns = ['Metadata_Well', 'Metadata_WellRow', 'Metadata_WellColumn', 'Metadata_Field',\n",
    "                              'TimepointName', 'Replicate', 'Time', 'PassageNumber', 'Staining', 'Drug'])\n",
    "\n",
    "#plate_df.head(13)\n",
    "#print(columns_row)"
   ]
  },
  {
   "cell_type": "code",
   "execution_count": 8,
   "id": "7614aa4c-8c12-4459-b6da-05c22f6cfa35",
   "metadata": {},
   "outputs": [],
   "source": [
    "for index,data in plate_df.iterrows():\n",
    "    row = data.to_list()\n",
    "    for count,value in enumerate(row):\n",
    "        curr_well = value\n",
    "        row_list = []\n",
    "        # get string data and label of row in df (e.g. col1, text= R1T0 EAA1-488 Tfn-647)\n",
    "        # regex to separate into different variables\n",
    "        # then add them to dict with their respective col index (label) and index of the row in the column (column.index)\n",
    "        for i in range(40):\n",
    "            \n",
    "            row_entry = {}\n",
    "            \n",
    "            row_index = index+1  #Make it 1-indexed\n",
    "            column_index = columns_row[count]  # Use header row for column index\n",
    "            #print(column_index)\n",
    "           \n",
    "            if ~np.isnan(row_index): \n",
    "                well_name = well_namer(row_index, column_index)\n",
    "            else:\n",
    "                well_name = 'Empty'\n",
    "            \n",
    "\n",
    "            text = curr_well.split(' ')\n",
    "            rep = text[0][1:2]\n",
    "            time = text[1][1:2]\n",
    "            passage_num = text[2][1:3] #passage_number(Int(time)) - use the function if you don;t have passage number in the table\n",
    "            name = text[0] + ' ' + text[1]\n",
    "            stains = ' '.join(text[3:len(text)]) #Use if 3 passage number is in the table values\n",
    "            ika = \"IKA\" in text          \n",
    "            \n",
    "    \n",
    "            field = i+1 #information for the field is just 1-40, nothing else changes\n",
    "\n",
    "            #print(name, rep, time, passage_num, field, stains, ika, sep=',') \n",
    "    \n",
    "            row_entry.update({'Metadata_Well': well_name, 'Metadata_WellRow': row_index, 'Metadata_WellColumn': column_index, 'Metadata_Field': field,\n",
    "                              'TimepointName':name, 'Replicate': rep, 'Time': time, 'PassageNumber': passage_num, 'Staining': stains, 'Drug': ika })\n",
    "\n",
    "            row_list.append(row_entry)\n",
    "            \n",
    "        rows = pd.DataFrame(row_list)\n",
    "        plate_map_df = pd.concat([plate_map_df, rows],ignore_index=True)\n",
    "        #column_index = column_index+1\n",
    "\n",
    "plate_map_df.to_csv(export_path + 'map.csv', index=False)"
   ]
  },
  {
   "cell_type": "code",
   "execution_count": 5,
   "id": "c9ed2d20-17ac-4892-b4fd-a6a3540d3980",
   "metadata": {},
   "outputs": [
    {
     "name": "stdout",
     "output_type": "stream",
     "text": [
      "11\n"
     ]
    }
   ],
   "source": [
    "\n",
    "\n",
    "num = 11\n",
    "padded_num = str(num).rjust(2, '0')\n",
    "print(padded_num)"
   ]
  },
  {
   "cell_type": "code",
   "execution_count": null,
   "id": "3f21fab0-1889-47a4-9627-079d4a755b88",
   "metadata": {},
   "outputs": [],
   "source": []
  }
 ],
 "metadata": {
  "kernelspec": {
   "display_name": "Python 3 (ipykernel)",
   "language": "python",
   "name": "python3"
  },
  "language_info": {
   "codemirror_mode": {
    "name": "ipython",
    "version": 3
   },
   "file_extension": ".py",
   "mimetype": "text/x-python",
   "name": "python",
   "nbconvert_exporter": "python",
   "pygments_lexer": "ipython3",
   "version": "3.12.4"
  }
 },
 "nbformat": 4,
 "nbformat_minor": 5
}
