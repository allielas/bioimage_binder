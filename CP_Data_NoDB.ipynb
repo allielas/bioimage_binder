{
 "cells": [
  {
   "cell_type": "code",
   "execution_count": null,
   "id": "36402fce-6b82-4c73-95a1-0385d1d653ec",
   "metadata": {
    "deletable": true,
    "editable": true,
    "frozen": false,
    "slideshow": {
     "slide_type": ""
    },
    "tags": []
   },
   "outputs": [],
   "source": [
    "#Imports\n",
    "import pathlib\n",
    "import numpy as np\n",
    "import pandas as pd\n",
    "# ignore mix type warnings from pandas\n",
    "import warnings\n",
    "#plotting\n",
    "import matplotlib.colors as mcolors\n",
    "from matplotlib.patches import Rectangle\n",
    "import math\n",
    "import plotly.express as px\n",
    "import plotly.graph_objects as go\n",
    "import matplotlib.pyplot as plt\n",
    "import seaborn as sns\n",
    "import joypy\n",
    "import scipy\n",
    "from scipy import stats\n",
    "from scipy.stats import f_oneway\n",
    "from statsmodels.stats.multicomp import pairwise_tukeyhsd"
   ]
  },
  {
   "cell_type": "code",
   "execution_count": null,
   "id": "5c7d2ba1-5cf0-4631-b456-6b955fb12f70",
   "metadata": {
    "deletable": true,
    "editable": true,
    "frozen": false,
    "slideshow": {
     "slide_type": ""
    },
    "tags": []
   },
   "outputs": [],
   "source": [
    "# Setting file paths\n",
    "data_dir = pathlib.Path(\"/Users/allielas/bioimage_binder/\").resolve(strict=True)\n",
    "plate = \"Mar26_mitolyso_v2\"\n",
    "metadata_dir = (data_dir / plate/ \"metadata\").resolve(strict=True)\n",
    "\n",
    "plate_map = (metadata_dir / 'map.csv').resolve(strict=True)"
   ]
  },
  {
   "cell_type": "code",
   "execution_count": null,
   "id": "0f36734c-fff2-4031-9823-730571bc53e7",
   "metadata": {},
   "outputs": [],
   "source": [
    "data_dir_2 = pathlib.Path(\"/Users/allielas/bioimage_binder/\").resolve(strict=True)\n",
    "plate_2 = \"Mar13_mitolyso_v2\"\n",
    "metadata_dir_2 = (data_dir_2 / plate_2/ \"metadata\").resolve(strict=True)\n",
    "\n",
    "plate_map_2 = (metadata_dir_2 / 'map.csv').resolve(strict=True)"
   ]
  },
  {
   "cell_type": "code",
   "execution_count": null,
   "id": "0c4af386-ccaf-4cb1-9483-d5d630d3d762",
   "metadata": {
    "deletable": true,
    "editable": true,
    "frozen": false
   },
   "outputs": [],
   "source": [
    "# input file paths for csv\n",
    "image_path = pathlib.Path(data_dir / plate / \"Image.csv\").resolve(strict=True)\n",
    "cell_path = pathlib.Path(data_dir / plate / \"Cell.csv\").resolve(strict=True)\n",
    "nuc_path = pathlib.Path(data_dir / plate / \"Nuclei.csv\").resolve(strict=True)\n",
    "#mito_path = pathlib.Path(data_dir / plate / \"MaskedMito.csv\").resolve(strict=True)\n",
    "#lyso_path = pathlib.Path(data_dir / plate / \"Lysosomes_PerCell.csv\").resolve(strict=True)\n",
    "\n",
    "image_path_2 = pathlib.Path(data_dir_2 / plate_2 / \"Image.csv\").resolve(strict=True)\n",
    "cell_path_2 = pathlib.Path(data_dir_2 / plate_2 / \"CellOutline.csv\").resolve(strict=True)\n",
    "nuc_path_2 = pathlib.Path(data_dir_2 / plate_2 / \"Nuclei.csv\").resolve(strict=True)"
   ]
  },
  {
   "cell_type": "code",
   "execution_count": null,
   "id": "095324f5-71cf-4f84-9f5b-f5b5b647f32c",
   "metadata": {
    "deletable": true,
    "editable": true,
    "frozen": false
   },
   "outputs": [],
   "source": [
    "#Import the platemap\n",
    "platemap_df = pd.read_csv(plate_map)\n",
    "platemap_df_2 = pd.read_csv(plate_map_2)\n",
    "print(platemap_df_2.columns.tolist())\n"
   ]
  },
  {
   "cell_type": "code",
   "execution_count": null,
   "id": "c1e3b1b8-cd37-43b5-9f90-c1fcc83fbb80",
   "metadata": {
    "deletable": true,
    "editable": true,
    "frozen": false,
    "scrolled": true,
    "slideshow": {
     "slide_type": ""
    },
    "tags": []
   },
   "outputs": [],
   "source": [
    "# loading plate map and display it\n",
    "\n",
    "\n",
    "# displaying platemap\n",
    "print(platemap_df.columns.tolist())\n",
    "\n",
    "#Import the cellprofiler csv files using dask to save memory\n",
    "image_df = pd.read_csv(image_path)\n",
    "pre_nuclei_df = pd.read_csv(nuc_path)\n",
    "pre_cell_df = pd.read_csv(cell_path)#, usecols=['ObjectNumber','ImageNumber','Metadata_Well', 'Metadata_Field', \n",
    "                                     #     'Metadata_WellColumn', 'Metadata_WellRow', 'AreaShape_Area',\n",
    "                                      #   'AreaShape_Eccentricity','Children_Lysosomes_Count', 'Children_Mitochondria_Count',\n",
    "                                       #   'Math_Lysosome_Cell_Ratio', 'Math_Mitochondria_Cell_Ratio'], index_col = False)\n",
    "#pre_lyso_df = pd.read_csv(lyso_path)#, usecols=['ObjectNumber','ImageNumber','Metadata_Well', 'Metadata_Field',\n",
    "                                     #     'Metadata_WellColumn', 'Metadata_WellRow', 'AreaShape_Area',\n",
    "                                      #   'AreaShape_Eccentricity','Parent_Cell','Intensity_MedianIntensity_LAMP1',\n",
    "                                       #  'Intensity_MeanIntensity_LAMP1','Texture_Contrast_LAMP1_3_01_256'],index_col = False)\n",
    "#pre_mito_df = pd.read_csv(mito_path)#, usecols=['ObjectNumber','ImageNumber','Metadata_Well', 'Metadata_Field',\n",
    "                                     #     'Metadata_WellColumn', 'Metadata_WellRow', 'AreaShape_Area',\n",
    "                                      #   'AreaShape_Eccentricity','Parent_Cell','Intensity_MedianIntensity_MitoTracker',\n",
    "                                       #  'Intensity_MeanIntensity_MitoTracker','Texture_Contrast_MitoTracker_3_01_256'],index_col = False)\n",
    "\n",
    "image_df_2 = pd.read_csv(image_path_2)\n",
    "pre_nuclei_df_2 = pd.read_csv(nuc_path_2)\n",
    "pre_cell_df_2 = pd.read_csv(cell_path_2)\n",
    "print(pre_cell_df_2.columns.to_list())"
   ]
  },
  {
   "cell_type": "markdown",
   "id": "e97ea61c-4745-4fa0-bd89-5abd61fb137a",
   "metadata": {},
   "source": [
    "### Metadata columns\n",
    "['ImageNumber', 'ObjectNumber', 'Metadata_ChannelNumber', 'Metadata_Field', \n",
    " 'Metadata_FileLocation', 'Metadata_Frame', 'Metadata_QCFlag_Nuclei', 'Metadata_Series', 'Metadata_Well', 'Metadata_WellColumn', 'Metadata_WellRow',\n",
    "### Areashape features \n",
    " 'AreaShape_Area', 'AreaShape_BoundingBoxArea', 'AreaShape_BoundingBoxMaximum_X', 'AreaShape_BoundingBoxMaximum_Y',\n",
    " 'AreaShape_BoundingBoxMinimum_X', 'AreaShape_BoundingBoxMinimum_Y', 'AreaShape_Center_X', 'AreaShape_Center_Y', 'AreaShape_Compactness', 'AreaShape_ConvexArea', 'AreaShape_Eccentricity', \n",
    " 'AreaShape_EquivalentDiameter', 'AreaShape_EulerNumber', 'AreaShape_Extent', 'AreaShape_FormFactor', 'AreaShape_MajorAxisLength', 'AreaShape_MaxFeretDiameter', 'AreaShape_MaximumRadius', \n",
    " 'AreaShape_MeanRadius', 'AreaShape_MedianRadius', 'AreaShape_MinFeretDiameter', 'AreaShape_MinorAxisLength', 'AreaShape_Orientation', 'AreaShape_Perimeter', 'AreaShape_Solidity', \n",
    " 'AreaShape_Zernike_0_0', 'AreaShape_Zernike_1_1', 'AreaShape_Zernike_2_0', 'AreaShape_Zernike_2_2', 'AreaShape_Zernike_3_1', 'AreaShape_Zernike_3_3', 'AreaShape_Zernike_4_0', 'AreaShape_Zernike_4_2', 'AreaShape_Zernike_4_4', 'AreaShape_Zernike_5_1', 'AreaShape_Zernike_5_3', 'AreaShape_Zernike_5_5', 'AreaShape_Zernike_6_0', 'AreaShape_Zernike_6_2', 'AreaShape_Zernike_6_4', 'AreaShape_Zernike_6_6', 'AreaShape_Zernike_7_1', 'AreaShape_Zernike_7_3', 'AreaShape_Zernike_7_5', 'AreaShape_Zernike_7_7', 'AreaShape_Zernike_8_0', 'AreaShape_Zernike_8_2', 'AreaShape_Zernike_8_4', 'AreaShape_Zernike_8_6', 'AreaShape_Zernike_8_8', 'AreaShape_Zernike_9_1', 'AreaShape_Zernike_9_3', 'AreaShape_Zernike_9_5', 'AreaShape_Zernike_9_7', 'AreaShape_Zernike_9_9', \n",
    "### Per-child features\n",
    " #### Granularity\n",
    " 'Children_Cytoplasm_Count', 'Granularity_10_LAMP1', 'Granularity_10_MitoTracker', 'Granularity_11_LAMP1',\n",
    " 'Granularity_11_MitoTracker', 'Granularity_12_LAMP1', 'Granularity_12_MitoTracker', 'Granularity_13_LAMP1', \n",
    " 'Granularity_13_MitoTracker', 'Granularity_14_LAMP1', 'Granularity_14_MitoTracker', 'Granularity_15_LAMP1', \n",
    " 'Granularity_15_MitoTracker', 'Granularity_16_LAMP1', 'Granularity_16_MitoTracker', 'Granularity_1_LAMP1', \n",
    " 'Granularity_1_MitoTracker', 'Granularity_2_LAMP1', 'Granularity_2_MitoTracker', 'Granularity_3_LAMP1', 'Granularity_3_MitoTracker', \n",
    " 'Granularity_4_LAMP1', 'Granularity_4_MitoTracker', 'Granularity_5_LAMP1', 'Granularity_5_MitoTracker', 'Granularity_6_LAMP1',\n",
    " 'Granularity_6_MitoTracker', 'Granularity_7_LAMP1', 'Granularity_7_MitoTracker', 'Granularity_8_LAMP1', 'Granularity_8_MitoTracker', 'Granularity_9_LAMP1', 'Granularity_9_MitoTracker', \n",
    " #### Loc\n",
    " 'Location_Center_X', 'Location_Center_Y', 'Location_Center_Z', \n",
    " ### Ratios\n",
    " 'Math_Lysosome_Cell_Ratio', 'Math_Mitochondria_Cell_Ratio', \n",
    " 'Mean_MaskedLyso_Distance_Centroid_Cell', 'Mean_MaskedLyso_Location_Center_X', \n",
    " 'Mean_MaskedLyso_Location_Center_Y', 'Mean_MaskedLyso_Number_Object_Number',\n",
    " 'Mean_MaskedMito_Distance_Centroid_Cell', 'Mean_MaskedMito_Location_Center_X', \n",
    " 'Mean_MaskedMito_Location_Center_Y', 'Mean_MaskedMito_Number_Object_Number', \n",
    " 'Number_Object_Number', 'Parent_Nuclei',\n",
    " #### Textures\n",
    " 'Texture_AngularSecondMoment_LAMP1_3_00_256', \n",
    " 'Texture_AngularSecondMoment_LAMP1_3_01_256', 'Texture_AngularSecondMoment_LAMP1_3_02_256',\n",
    " 'Texture_AngularSecondMoment_LAMP1_3_03_256', 'Texture_AngularSecondMoment_MitoTracker_3_00_256',\n",
    " 'Texture_AngularSecondMoment_MitoTracker_3_01_256', 'Texture_AngularSecondMoment_MitoTracker_3_02_256', \n",
    " 'Texture_AngularSecondMoment_MitoTracker_3_03_256', 'Texture_Contrast_LAMP1_3_00_256', \n",
    " 'Texture_Contrast_LAMP1_3_01_256', 'Texture_Contrast_LAMP1_3_02_256', \n",
    " 'Texture_Contrast_LAMP1_3_03_256', 'Texture_Contrast_MitoTracker_3_00_256',\n",
    " 'Texture_Contrast_MitoTracker_3_01_256', 'Texture_Contrast_MitoTracker_3_02_256',\n",
    " 'Texture_Contrast_MitoTracker_3_03_256', 'Texture_Correlation_LAMP1_3_00_256',\n",
    " 'Texture_Correlation_LAMP1_3_01_256', 'Texture_Correlation_LAMP1_3_02_256',\n",
    " 'Texture_Correlation_LAMP1_3_03_256', 'Texture_Correlation_MitoTracker_3_00_256',\n",
    " 'Texture_Correlation_MitoTracker_3_01_256', 'Texture_Correlation_MitoTracker_3_02_256', \n",
    " 'Texture_Correlation_MitoTracker_3_03_256', 'Texture_DifferenceEntropy_LAMP1_3_00_256',\n",
    " 'Texture_DifferenceEntropy_LAMP1_3_01_256', 'Texture_DifferenceEntropy_LAMP1_3_02_256',\n",
    " 'Texture_DifferenceEntropy_LAMP1_3_03_256', 'Texture_DifferenceEntropy_MitoTracker_3_00_256', \n",
    " 'Texture_DifferenceEntropy_MitoTracker_3_01_256', 'Texture_DifferenceEntropy_MitoTracker_3_02_256', \n",
    " 'Texture_DifferenceEntropy_MitoTracker_3_03_256', 'Texture_DifferenceVariance_LAMP1_3_00_256', \n",
    " 'Texture_DifferenceVariance_LAMP1_3_01_256', 'Texture_DifferenceVariance_LAMP1_3_02_256', \n",
    " 'Texture_DifferenceVariance_LAMP1_3_03_256', 'Texture_DifferenceVariance_MitoTracker_3_00_256', \n",
    " 'Texture_DifferenceVariance_MitoTracker_3_01_256', 'Texture_DifferenceVariance_MitoTracker_3_02_256'\n",
    " ,'Texture_DifferenceVariance_MitoTracker_3_03_256', 'Texture_Entropy_LAMP1_3_00_256',\n",
    " 'Texture_Entropy_LAMP1_3_01_256', 'Texture_Entropy_LAMP1_3_02_256','Texture_Entropy_LAMP1_3_03_256', \n",
    " 'Texture_Entropy_MitoTracker_3_00_256', 'Texture_Entropy_MitoTracker_3_01_256', \n",
    " 'Texture_Entropy_MitoTracker_3_02_256', 'Texture_Entropy_MitoTracker_3_03_256', \n",
    " 'Texture_InfoMeas1_LAMP1_3_00_256', 'Texture_InfoMeas1_LAMP1_3_01_256', \n",
    " 'Texture_InfoMeas1_LAMP1_3_02_256', 'Texture_InfoMeas1_LAMP1_3_03_256', \n",
    " 'Texture_InfoMeas1_MitoTracker_3_00_256', 'Texture_InfoMeas1_MitoTracker_3_01_256',\n",
    " 'Texture_InfoMeas1_MitoTracker_3_02_256', 'Texture_InfoMeas1_MitoTracker_3_03_256', \n",
    " 'Texture_InfoMeas2_LAMP1_3_00_256', 'Texture_InfoMeas2_LAMP1_3_01_256', 'Texture_InfoMeas2_LAMP1_3_02_256',\n",
    " 'Texture_InfoMeas2_LAMP1_3_03_256', 'Texture_InfoMeas2_MitoTracker_3_00_256', \n",
    " 'Texture_InfoMeas2_MitoTracker_3_01_256', 'Texture_InfoMeas2_MitoTracker_3_02_256', \n",
    " 'Texture_InfoMeas2_MitoTracker_3_03_256', 'Texture_InverseDifferenceMoment_LAMP1_3_00_256', \n",
    " 'Texture_InverseDifferenceMoment_LAMP1_3_01_256', 'Texture_InverseDifferenceMoment_LAMP1_3_02_256',\n",
    " 'Texture_InverseDifferenceMoment_LAMP1_3_03_256', 'Texture_InverseDifferenceMoment_MitoTracker_3_00_256', \n",
    " 'Texture_InverseDifferenceMoment_MitoTracker_3_01_256', 'Texture_InverseDifferenceMoment_MitoTracker_3_02_256',\n",
    " 'Texture_InverseDifferenceMoment_MitoTracker_3_03_256', 'Texture_SumAverage_LAMP1_3_00_256', \n",
    " 'Texture_SumAverage_LAMP1_3_01_256', 'Texture_SumAverage_LAMP1_3_02_256', \n",
    " 'Texture_SumAverage_LAMP1_3_03_256', 'Texture_SumAverage_MitoTracker_3_00_256', \n",
    " 'Texture_SumAverage_MitoTracker_3_01_256', 'Texture_SumAverage_MitoTracker_3_02_256', \n",
    " 'Texture_SumAverage_MitoTracker_3_03_256', 'Texture_SumEntropy_LAMP1_3_00_256', \n",
    " 'Texture_SumEntropy_LAMP1_3_01_256', 'Texture_SumEntropy_LAMP1_3_02_256', \n",
    " 'Texture_SumEntropy_LAMP1_3_03_256', 'Texture_SumEntropy_MitoTracker_3_00_256', \n",
    " 'Texture_SumEntropy_MitoTracker_3_01_256', 'Texture_SumEntropy_MitoTracker_3_02_256', \n",
    " 'Texture_SumEntropy_MitoTracker_3_03_256', 'Texture_SumVariance_LAMP1_3_00_256',\n",
    " 'Texture_SumVariance_LAMP1_3_01_256', 'Texture_SumVariance_LAMP1_3_02_256',\n",
    " 'Texture_SumVariance_LAMP1_3_03_256', 'Texture_SumVariance_MitoTracker_3_00_256', \n",
    " 'Texture_SumVariance_MitoTracker_3_01_256', 'Texture_SumVariance_MitoTracker_3_02_256', \n",
    " 'Texture_SumVariance_MitoTracker_3_03_256', 'Texture_Variance_LAMP1_3_00_256',\n",
    " 'Texture_Variance_LAMP1_3_01_256', 'Texture_Variance_LAMP1_3_02_256', \n",
    " 'Texture_Variance_LAMP1_3_03_256', 'Texture_Variance_MitoTracker_3_00_256', \n",
    " 'Texture_Variance_MitoTracker_3_01_256', 'Texture_Variance_MitoTracker_3_02_256', \n",
    " 'Texture_Variance_MitoTracker_3_03_256']\n"
   ]
  },
  {
   "cell_type": "code",
   "execution_count": null,
   "id": "7b1078f4-63e6-4c1a-ac8e-56cfb78c346a",
   "metadata": {
    "deletable": true,
    "editable": true,
    "frozen": false,
    "slideshow": {
     "slide_type": ""
    },
    "tags": []
   },
   "outputs": [],
   "source": [
    "#Merge the dfs with the metadata\n",
    "cell_df = pre_cell_df.merge(platemap_df, on=['Metadata_Well','Metadata_WellRow','Metadata_WellColumn','Metadata_Field'], how ='left')\n",
    "#lyso_df = pre_lyso_df.merge(platemap_df, on=['Metadata_Well','Metadata_WellRow','Metadata_WellColumn','Metadata_Field'], how ='left')\n",
    "#mito_df = pre_mito_df.merge(platemap_df, on=['Metadata_Well','Metadata_WellRow','Metadata_WellColumn','Metadata_Field'], how ='left')\n",
    "nuclei_df = pre_nuclei_df.merge(platemap_df, on=['Metadata_Well','Metadata_WellRow','Metadata_WellColumn','Metadata_Field'], how ='left')\n",
    "\n",
    "###cell_df.set_index('ObjectNumber')\n",
    "#dfs are still of the dask df type \n",
    "#print(type(cell_df))\n",
    "cell_df_2 = pre_cell_df_2.merge(platemap_df, on=['Metadata_Well','Metadata_WellRow','Metadata_WellColumn','Metadata_Field'], how ='left')\n",
    "nuclei_df_2 = pre_nuclei_df_2.merge(platemap_df, on=['Metadata_Well','Metadata_WellRow','Metadata_WellColumn','Metadata_Field'], how ='left')\n"
   ]
  },
  {
   "cell_type": "code",
   "execution_count": null,
   "id": "0a5fd758-dec1-44a6-a177-704a3a172d44",
   "metadata": {},
   "outputs": [],
   "source": [
    "cell_features = ['AreaShape_Area', 'AreaShape_BoundingBoxArea', 'AreaShape_BoundingBoxMaximum_X', 'AreaShape_BoundingBoxMaximum_Y', 'AreaShape_BoundingBoxMinimum_X', 'AreaShape_BoundingBoxMinimum_Y', 'AreaShape_Center_X', 'AreaShape_Center_Y', 'AreaShape_Compactness', 'AreaShape_ConvexArea', 'AreaShape_Eccentricity', 'AreaShape_EquivalentDiameter', 'AreaShape_EulerNumber', 'AreaShape_Extent', 'AreaShape_FormFactor', 'AreaShape_MajorAxisLength', 'AreaShape_MaxFeretDiameter', 'AreaShape_MaximumRadius', 'AreaShape_MeanRadius', 'AreaShape_MedianRadius', 'AreaShape_MinFeretDiameter', 'AreaShape_MinorAxisLength', 'AreaShape_Orientation', 'AreaShape_Perimeter', 'AreaShape_Solidity', 'AreaShape_Zernike_0_0', 'AreaShape_Zernike_1_1', 'AreaShape_Zernike_2_0', 'AreaShape_Zernike_2_2', 'AreaShape_Zernike_3_1', 'AreaShape_Zernike_3_3', 'AreaShape_Zernike_4_0', 'AreaShape_Zernike_4_2', 'AreaShape_Zernike_4_4', 'AreaShape_Zernike_5_1', 'AreaShape_Zernike_5_3', 'AreaShape_Zernike_5_5', 'AreaShape_Zernike_6_0', 'AreaShape_Zernike_6_2', 'AreaShape_Zernike_6_4', 'AreaShape_Zernike_6_6', 'AreaShape_Zernike_7_1', 'AreaShape_Zernike_7_3', 'AreaShape_Zernike_7_5', 'AreaShape_Zernike_7_7', 'AreaShape_Zernike_8_0', 'AreaShape_Zernike_8_2', 'AreaShape_Zernike_8_4', 'AreaShape_Zernike_8_6', 'AreaShape_Zernike_8_8', 'AreaShape_Zernike_9_1', 'AreaShape_Zernike_9_3', 'AreaShape_Zernike_9_5', 'AreaShape_Zernike_9_7', 'AreaShape_Zernike_9_9', 'Texture_AngularSecondMoment_LAMP1_3_00_256', 'Texture_AngularSecondMoment_LAMP1_3_01_256', 'Texture_AngularSecondMoment_LAMP1_3_02_256', 'Texture_AngularSecondMoment_LAMP1_3_03_256', 'Texture_AngularSecondMoment_MitoTracker_3_00_256', 'Texture_AngularSecondMoment_MitoTracker_3_01_256', 'Texture_AngularSecondMoment_MitoTracker_3_02_256', 'Texture_AngularSecondMoment_MitoTracker_3_03_256', 'Texture_Contrast_LAMP1_3_00_256', 'Texture_Contrast_LAMP1_3_01_256', 'Texture_Contrast_LAMP1_3_02_256', 'Texture_Contrast_LAMP1_3_03_256', 'Texture_Contrast_MitoTracker_3_00_256', 'Texture_Contrast_MitoTracker_3_01_256', 'Texture_Contrast_MitoTracker_3_02_256', 'Texture_Contrast_MitoTracker_3_03_256', 'Texture_Correlation_LAMP1_3_00_256', 'Texture_Correlation_LAMP1_3_01_256', 'Texture_Correlation_LAMP1_3_02_256', 'Texture_Correlation_LAMP1_3_03_256', 'Texture_Correlation_MitoTracker_3_00_256', 'Texture_Correlation_MitoTracker_3_01_256', 'Texture_Correlation_MitoTracker_3_02_256', 'Texture_Correlation_MitoTracker_3_03_256', 'Texture_DifferenceEntropy_LAMP1_3_00_256', 'Texture_DifferenceEntropy_LAMP1_3_01_256', 'Texture_DifferenceEntropy_LAMP1_3_02_256', 'Texture_DifferenceEntropy_LAMP1_3_03_256', 'Texture_DifferenceEntropy_MitoTracker_3_00_256', 'Texture_DifferenceEntropy_MitoTracker_3_01_256', 'Texture_DifferenceEntropy_MitoTracker_3_02_256', 'Texture_DifferenceEntropy_MitoTracker_3_03_256', 'Texture_DifferenceVariance_LAMP1_3_00_256', 'Texture_DifferenceVariance_LAMP1_3_01_256', 'Texture_DifferenceVariance_LAMP1_3_02_256', 'Texture_DifferenceVariance_LAMP1_3_03_256', 'Texture_DifferenceVariance_MitoTracker_3_00_256', 'Texture_DifferenceVariance_MitoTracker_3_01_256', 'Texture_DifferenceVariance_MitoTracker_3_02_256' ,'Texture_DifferenceVariance_MitoTracker_3_03_256', 'Texture_Entropy_LAMP1_3_00_256', 'Texture_Entropy_LAMP1_3_01_256', 'Texture_Entropy_LAMP1_3_02_256','Texture_Entropy_LAMP1_3_03_256', 'Texture_Entropy_MitoTracker_3_00_256', 'Texture_Entropy_MitoTracker_3_01_256', 'Texture_Entropy_MitoTracker_3_02_256', 'Texture_Entropy_MitoTracker_3_03_256', 'Texture_InfoMeas1_LAMP1_3_00_256', 'Texture_InfoMeas1_LAMP1_3_01_256', 'Texture_InfoMeas1_LAMP1_3_02_256', 'Texture_InfoMeas1_LAMP1_3_03_256', 'Texture_InfoMeas1_MitoTracker_3_00_256', 'Texture_InfoMeas1_MitoTracker_3_01_256', 'Texture_InfoMeas1_MitoTracker_3_02_256', 'Texture_InfoMeas1_MitoTracker_3_03_256', 'Texture_InfoMeas2_LAMP1_3_00_256', 'Texture_InfoMeas2_LAMP1_3_01_256', 'Texture_InfoMeas2_LAMP1_3_02_256', 'Texture_InfoMeas2_LAMP1_3_03_256', 'Texture_InfoMeas2_MitoTracker_3_00_256', 'Texture_InfoMeas2_MitoTracker_3_01_256', 'Texture_InfoMeas2_MitoTracker_3_02_256', 'Texture_InfoMeas2_MitoTracker_3_03_256', 'Texture_InverseDifferenceMoment_LAMP1_3_00_256', 'Texture_InverseDifferenceMoment_LAMP1_3_01_256', 'Texture_InverseDifferenceMoment_LAMP1_3_02_256', 'Texture_InverseDifferenceMoment_LAMP1_3_03_256', 'Texture_InverseDifferenceMoment_MitoTracker_3_00_256', 'Texture_InverseDifferenceMoment_MitoTracker_3_01_256', 'Texture_InverseDifferenceMoment_MitoTracker_3_02_256', 'Texture_InverseDifferenceMoment_MitoTracker_3_03_256', 'Texture_SumAverage_LAMP1_3_00_256', 'Texture_SumAverage_LAMP1_3_01_256', 'Texture_SumAverage_LAMP1_3_02_256', 'Texture_SumAverage_LAMP1_3_03_256', 'Texture_SumAverage_MitoTracker_3_00_256', 'Texture_SumAverage_MitoTracker_3_01_256', 'Texture_SumAverage_MitoTracker_3_02_256', 'Texture_SumAverage_MitoTracker_3_03_256', 'Texture_SumEntropy_LAMP1_3_00_256', 'Texture_SumEntropy_LAMP1_3_01_256', 'Texture_SumEntropy_LAMP1_3_02_256', 'Texture_SumEntropy_LAMP1_3_03_256', 'Texture_SumEntropy_MitoTracker_3_00_256', 'Texture_SumEntropy_MitoTracker_3_01_256', 'Texture_SumEntropy_MitoTracker_3_02_256', 'Texture_SumEntropy_MitoTracker_3_03_256', 'Texture_SumVariance_LAMP1_3_00_256', 'Texture_SumVariance_LAMP1_3_01_256', 'Texture_SumVariance_LAMP1_3_02_256', 'Texture_SumVariance_LAMP1_3_03_256', 'Texture_SumVariance_MitoTracker_3_00_256', 'Texture_SumVariance_MitoTracker_3_01_256', 'Texture_SumVariance_MitoTracker_3_02_256', 'Texture_SumVariance_MitoTracker_3_03_256', 'Texture_Variance_LAMP1_3_00_256', 'Texture_Variance_LAMP1_3_01_256', 'Texture_Variance_LAMP1_3_02_256', 'Texture_Variance_LAMP1_3_03_256', 'Texture_Variance_MitoTracker_3_00_256', 'Texture_Variance_MitoTracker_3_01_256', 'Texture_Variance_MitoTracker_3_02_256', 'Texture_Variance_MitoTracker_3_03_256','Granularity_10_LAMP1', 'Granularity_10_MitoTracker', 'Granularity_11_LAMP1', 'Granularity_11_MitoTracker', 'Granularity_12_LAMP1', 'Granularity_12_MitoTracker', 'Granularity_13_LAMP1', 'Granularity_13_MitoTracker', 'Granularity_14_LAMP1', 'Granularity_14_MitoTracker', 'Granularity_15_LAMP1', 'Granularity_15_MitoTracker', 'Granularity_16_LAMP1', 'Granularity_16_MitoTracker', 'Granularity_1_LAMP1', 'Granularity_1_MitoTracker', 'Granularity_2_LAMP1', 'Granularity_2_MitoTracker', 'Granularity_3_LAMP1', 'Granularity_3_MitoTracker', 'Granularity_4_LAMP1', 'Granularity_4_MitoTracker', 'Granularity_5_LAMP1', 'Granularity_5_MitoTracker', 'Granularity_6_LAMP1', 'Granularity_6_MitoTracker', 'Granularity_7_LAMP1', 'Granularity_7_MitoTracker', 'Granularity_8_LAMP1', 'Granularity_8_MitoTracker', 'Granularity_9_LAMP1', 'Granularity_9_MitoTracker','Math_Lysosome_Cell_Ratio', 'Math_Mitochondria_Cell_Ratio', 'Mean_MaskedLyso_Distance_Centroid_Cell', 'Mean_MaskedLyso_Location_Center_X', 'Mean_MaskedLyso_Location_Center_Y', 'Mean_MaskedLyso_Number_Object_Number', 'Mean_MaskedMito_Distance_Centroid_Cell', 'Mean_MaskedMito_Location_Center_X', 'Mean_MaskedMito_Location_Center_Y', 'Mean_MaskedMito_Number_Object_Number']"
   ]
  },
  {
   "cell_type": "markdown",
   "id": "7625bc10-6653-4b11-9596-a389580b437d",
   "metadata": {},
   "source": [
    "# Functions for Data Analysis\n",
    "calulcate normalizations, remove extreme left outliers, etc"
   ]
  },
  {
   "cell_type": "code",
   "execution_count": null,
   "id": "9c32e923-1f37-42cf-8b2c-ab7dea4829da",
   "metadata": {
    "deletable": true,
    "editable": true,
    "frozen": false,
    "slideshow": {
     "slide_type": ""
    },
    "tags": []
   },
   "outputs": [],
   "source": [
    "#Function to find the ratio between two columns in the two dataframes\n",
    "def ratioCalc(df1, df2):\n",
    "  int1 = df1['Intensity_MedianIntensity_CompensatedTfn']\n",
    "  int2 = df2['Intensity_MedianIntensity_CompensatedTfn']\n",
    "\n",
    "  temp_copy1 = outlier_removal(df1, int1)\n",
    "  temp_copy2 = outlier_removal(df2, int2)\n",
    "\n",
    "  intensity_ratio = temp_copy1[int1] / temp_copy1[int2]\n",
    "  return df[intensity_ratio]\n",
    "\n",
    "def standardize_group(df, columns):\n",
    "\n",
    "    from sklearn.preprocessing import StandardScaler\n",
    "   #Import the scaler and transform all time values to that of a standard distribution - only use for ML, not very desceiptive\n",
    "    scaler = StandardScaler()\n",
    "    scaled_df = scaler.fit_transform(df[columns])\n",
    "    return scaled_df\n",
    "    \n",
    "def group_by_time(df, feature_list):\n",
    "    \n",
    "    #Group columns by time and apply groupby function to the DF\n",
    "    df_groupby = df.groupby('Time').apply(lambda x: standardize_group(x,feature_list))\n",
    " \n",
    "    return df_groupby\n",
    "\n",
    "def normalize_to_control(df, feature):\n",
    "    # Take the t0 df\n",
    "    t0_df = df[df['Time']==0]\n",
    "    treatment_df = df[[feature, 'Time']]\n",
    "\n",
    "    #calculate the mean\n",
    "    mean_zero = t0_df[feature].mean()\n",
    "\n",
    "    #now update the column to have all rows dividied by the mean of time 0\n",
    "    treatment_df[feature] = treatment_df[feature] / mean_zero\n",
    "        \n",
    "    return treatment_df #normalized_features_df\n",
    "\n",
    "def outlier_removal(df, column):\n",
    "    # Create a copy of the column and the 'Time' column, along with parent nuclei\n",
    "    mini_df = pd.DataFrame({\n",
    "        column: df[column].copy(),\n",
    "        'Time': df['Time'].copy(),\n",
    "        'Parent_Nuclei': df['Parent_Nuclei'].copy(),\n",
    "        'ImageNumber': df['ImageNumber'].copy()\n",
    "    })\n",
    "\n",
    "        # remove stuff within 3 SD above of t4 \n",
    "    #nuc_t4_mean = np.mean(nuc_mini[nuc_mini['Time'] == 4])\n",
    "        #nuc_t4_std_dev = np.std(nuc_mini[nuc_mini['Time'] == 4])\n",
    "    \n",
    "    nuc_t4_mean = nuclei_df[nuclei_df['Time'] == 5]['AreaShape_MeanRadius'].mean()\n",
    "    nuc_t4_std_dev = nuclei_df[nuclei_df['Time'] == 5]['AreaShape_MeanRadius'].std()\n",
    "    nuc_threshold = nuc_t4_mean + (2 * nuc_t4_std_dev)\n",
    "    #print('threshold ', nuc_threshold, 'stdev=',nuc_t4_std_dev, 'mean=', nuc_t4_mean)\n",
    "    # Filter the nuclei dataframe to remove rows with AreaShape_Area above the threshold\n",
    "    filtered_nuclei_df = nuclei_df[nuclei_df['AreaShape_MeanRadius'] <= nuc_threshold]\n",
    "    \n",
    "    # Filter the cell dataframe to keep only rows where Parent_Nuclei is in the filtered DF\n",
    "    filtered_cell_df = mini_df.merge(filtered_nuclei_df[['Number_Object_Number', 'ImageNumber']], \n",
    "                                     left_on=['Parent_Nuclei', 'ImageNumber'], \n",
    "                                     right_on=['Number_Object_Number', 'ImageNumber'],\n",
    "                                     how='inner')\n",
    "      # Calculate bottom percentile for Time == 0\n",
    "    #p1 = np.percentile(filtered_cell_df[column], 5)\n",
    "\n",
    "    # Filter out values less than 0 \n",
    "    final_filtered_df = filtered_cell_df[filtered_cell_df[column] > 0].dropna()\n",
    "    return final_filtered_df\n",
    "\n",
    "\n",
    "\n",
    "# if df.equals(mito_df) or df.equals(lysosomes_df):\n",
    "# if df[Parents] == nuclei_df[ObjectNumber]. - only have the above if\n",
    "#if 'Area' in column:\n",
    "# Calculate mean and standard deviation for Time == 4"
   ]
  },
  {
   "cell_type": "code",
   "execution_count": null,
   "id": "e4712e57-bf39-484a-aac6-18373cbbe2d0",
   "metadata": {
    "deletable": true,
    "editable": true,
    "frozen": false,
    "id": "JCW64iaYC__l"
   },
   "outputs": [],
   "source": [
    "\n",
    "def stats(df, cols, excel_name):\n",
    "    \n",
    "    stats_cols = cols\n",
    "    with pd.ExcelWriter(excel_name) as writer:\n",
    "\n",
    "      for column in cols:\n",
    "          temp_copy = df.copy()  # Create a copy of the DataFrame for processing\n",
    "          temp_copy[column] = mad_normalization(temp_copy, column)\n",
    "\n",
    "          temp_copy = outlier_removal(temp_copy, column)\n",
    "          tukey = pairwise_tukeyhsd(endog=temp_copy[column], groups=temp_copy['Time'])\n",
    "\n",
    "        # Extract relevant results\n",
    "          results = np.array(tukey.summary().data)[:, [0, 1, 3, 6]]\n",
    "          df_results = pd.DataFrame(results, columns=['Group 1', 'Group 2', 'p-value', 'Reject']).drop([0])\n",
    "          df_results.reset_index(drop=True, inplace=True)\n",
    "          df_results[['Group 1', 'Group 2']] = df_results[['Group 1', 'Group 2']].astype(int)\n",
    "          df_results['p-value'] = df_results['p-value'].astype(float)\n",
    "        # Truncate the column name if it exceeds 31 characters\n",
    "          name = column[:31]\n",
    "\n",
    "        # Save DataFrame to Excel sheet without the index column\n",
    "          df_results.to_excel(writer, sheet_name=name, index=False)\n"
   ]
  },
  {
   "cell_type": "markdown",
   "id": "f066c1cc-6372-4a6c-b86e-7b9ac56aa160",
   "metadata": {
    "deletable": true,
    "editable": true,
    "frozen": false
   },
   "source": [
    "# Call your stats below (anova)"
   ]
  },
  {
   "cell_type": "code",
   "execution_count": null,
   "id": "42b398d1-74ca-4b35-a5f3-441c1d20c0e1",
   "metadata": {
    "deletable": true,
    "editable": true,
    "frozen": false,
    "id": "yIRnjjXd4n41"
   },
   "outputs": [],
   "source": [
    "stats(mito_df, # dataframe name: mito_df, nuclei_df, image_df, outline_df, lysosomes_df\n",
    "      mito_features, # list of columns specified in the cell right above, modify to make it work for a specific dataset\n",
    "      'mar13_mito_stats.xlsx') # name of the excel file you are gonna save stats to"
   ]
  },
  {
   "cell_type": "markdown",
   "id": "471f97e9-c191-4258-86c9-1467d3f587a0",
   "metadata": {
    "deletable": true,
    "editable": true,
    "frozen": false
   },
   "source": [
    "# Make the plots and validate dist"
   ]
  },
  {
   "cell_type": "code",
   "execution_count": null,
   "id": "e5c54674-0050-4886-a673-4932694cb276",
   "metadata": {
    "deletable": true,
    "editable": true,
    "frozen": false,
    "id": "SQcRrbKzDRqI"
   },
   "outputs": [],
   "source": [
    "def make_layout(xtitle,ytitle):\n",
    "  design = go.Layout(\n",
    "        plot_bgcolor=\"#FFF\",\n",
    "        xaxis=dict(\n",
    "            title=xtitle,\n",
    "            linecolor=\"black\",\n",
    "            showgrid=False,\n",
    "            titlefont=dict(size=20),\n",
    "            tickfont=dict(size=16, color=\"black\")\n",
    "        ),\n",
    "        yaxis=dict(\n",
    "            title=ytitle,\n",
    "            linecolor=\"black\",\n",
    "            showgrid=False,\n",
    "            titlefont=dict(size=20),\n",
    "            tickfont=dict(size=16, color=\"black\")\n",
    "        ),\n",
    "        font=dict(size=14),\n",
    "        legend=dict(\n",
    "            title=\"\",\n",
    "            itemsizing='constant',\n",
    "            font=dict(size=16, color=\"black\"),\n",
    "            tracegroupgap=10,\n",
    "            traceorder='normal',\n",
    "            orientation=\"h\",\n",
    "            yanchor=\"bottom\",\n",
    "            y=1.02,\n",
    "            xanchor=\"right\",\n",
    "            x=1\n",
    "        ),\n",
    "        boxgap=0.4,\n",
    "        boxgroupgap=0.05,\n",
    "        width=900,  # Specify width of the plot\n",
    "        height=600\n",
    "    )\n",
    "  return design\n",
    "\n",
    "def box_param(fig, color, design):\n",
    "  fig.update_traces(boxmean=True)\n",
    "  fig.update_traces(jitter=1.0)\n",
    "  fig.update_traces(boxpoints=False)\n",
    "  fig.update_layout(design)\n",
    "  fig.update_traces({'opacity': 0.9})\n",
    "  fig.update_traces(marker_color=color)\n",
    "  return fig"
   ]
  },
  {
   "cell_type": "code",
   "execution_count": null,
   "id": "7e7405cc-5896-4723-8df3-cc16f04f86f6",
   "metadata": {
    "deletable": true,
    "editable": true,
    "frozen": false
   },
   "outputs": [],
   "source": [
    "def boxplot(df, variable, ytitle, xtitle, box_color, save=False, save_name=None):\n",
    "    \n",
    "    # #some styling stuff\n",
    "  layout = make_layout(xtitle,ytitle)\n",
    "  temp_copy = df.copy()\n",
    "  temp_copy = outlier_removal(temp_copy, variable)\n",
    "  temp_copy2 = normalize_to_control(temp_copy, variable)\n",
    "\n",
    "  fig = px.box(temp_copy2, x=\"Time\", y=variable)\n",
    "  fig = box_param(fig, box_color, layout)\n",
    "  fig.update_traces(quartilemethod=\"inclusive\")\n",
    "  fig.show()\n",
    "  \n",
    "  if save==True:\n",
    "      fig.write_image(save_name)"
   ]
  },
  {
   "cell_type": "markdown",
   "id": "420e8287-1175-41cb-8621-49c17972bfed",
   "metadata": {
    "deletable": true,
    "editable": true,
    "frozen": false
   },
   "source": [
    "##  Call plotly\n",
    "```python\n",
    "boxplot(df, # dataframe name: mito_df, nuclei_df, image_df, outline_df, lysosomes_df\n",
    "        'Variable', # the variable you wanna plot, column name\n",
    "        'Y Title',# name of your y-axis (custom)\n",
    "        'Time Point',#name of your x-axis (custom)\n",
    "        'Red', # color of the boxes\n",
    "        save=True, # if wanna save change to False to True, False is default\n",
    "        save_name='_boxplot.png') #specify the name of the plot that you save\n",
    "\n",
    "```"
   ]
  },
  {
   "cell_type": "code",
   "execution_count": null,
   "id": "a00ce694-783d-40e6-b12d-443ad7952fa2",
   "metadata": {},
   "outputs": [],
   "source": [
    "#testing\n",
    "pd.options.mode.copy_on_write = True\n",
    "boxplot(cell_df,\n",
    "            'Texture_Contrast_MitoTracker_3_01_256',\n",
    "            'Texture_Contrast_MitoTracker_3_01_256',\n",
    "            \"Time Point\",\n",
    "            'Red',\n",
    "            save = False,\n",
    "            save_name = \"_boxplot.png\")"
   ]
  },
  {
   "cell_type": "code",
   "execution_count": null,
   "id": "a7862fef-6fc1-4092-9cd2-a72d5787213f",
   "metadata": {
    "deletable": true,
    "editable": true,
    "frozen": false
   },
   "outputs": [],
   "source": [
    "#save all the files for that one feature\n",
    "\n",
    "colors_i = 0\n",
    "compartment = 'Cell'\n",
    "import kaleido\n",
    "\n",
    "for feature in cell_features:\n",
    "    if colors_i >= len(px.colors.qualitative.Dark24):\n",
    "        colors_i = 0\n",
    "    title = compartment + '_' + feature\n",
    "    boxplot(cell_df,\n",
    "            feature,\n",
    "            feature.replace('_', ' '),\n",
    "            \"Time Point\",\n",
    "            px.colors.qualitative.Dark24[colors_i],\n",
    "            save = True,\n",
    "            save_name = plate + \"_\" + compartment + \"_\" + feature + \"_boxplot.png\")\n",
    "    colors_i = colors_i + 1\n",
    "    \n",
    "            \n",
    "    "
   ]
  },
  {
   "cell_type": "code",
   "execution_count": null,
   "id": "09938a7e-7a9e-4372-a672-76c6f96d1afc",
   "metadata": {},
   "outputs": [],
   "source": [
    "#Looking at distributions quickly\n",
    "filter_key = 'Texture_DifferenceEntropy_MitoTracker'\n",
    "filtered_features = ['Mean_Lysosomes_Distance_Centroid_CellOutline', 'Mean_Lysosomes_Location_Center_X', 'Mean_Lysosomes_Location_Center_Y', 'Mean_Lysosomes_Location_Center_Z'] \n",
    "\n",
    "fig = px.scatter_matrix(cell_df_2,\n",
    "    dimensions=filtered_features,\n",
    "    color=\"Time\", symbol = 'Time')\n",
    "\n",
    "fig.show()"
   ]
  },
  {
   "cell_type": "markdown",
   "id": "fd04edfe-dcbb-4a4f-a69c-da9a47a5d995",
   "metadata": {},
   "source": []
  },
  {
   "cell_type": "code",
   "execution_count": null,
   "id": "0519511c-08a1-4021-80c7-0c929a61d994",
   "metadata": {},
   "outputs": [],
   "source": [
    "from sklearn.decomposition import PCA\n",
    "filter_key = 'Variance_MitoTracker'\n",
    "filtered_features = list(filter(lambda x: filter_key in x,cell_features))\n",
    "\n",
    "ordered_cell = cell_df.sort_values(\n",
    "  by='Time', \n",
    "  ascending=True)\n",
    "ordered_cell['Time']=ordered_cell['Time'].astype(\"string\")\n",
    "X = ordered_cell[filtered_features]\n",
    "\n",
    "pca = PCA()\n",
    "components = pca.fit_transform(X)\n",
    "labels = {\n",
    "    str(i): f\"PC {i+1} ({var:.1f}%)\"\n",
    "    for i, var in enumerate(pca.explained_variance_ratio_ * 100)\n",
    "}\n",
    "\n",
    "fig = px.scatter_matrix(\n",
    "    components,\n",
    "    labels=labels,\n",
    "    dimensions=range(4),\n",
    "    color=ordered_cell[\"Time\"]\n",
    ")\n",
    "fig.update_traces(diagonal_visible=False)\n",
    "fig.show()"
   ]
  },
  {
   "cell_type": "code",
   "execution_count": null,
   "id": "f3150f5f-bc14-402a-948e-8613d32d2cb7",
   "metadata": {},
   "outputs": [],
   "source": [
    "from sklearn.decomposition import PCA\n",
    "filter_key = 'Contrast_LAMP1'\n",
    "filtered_features = list(filter(lambda x: filter_key in x,cell_features))\n",
    "\n",
    "ordered_cell = cell_df.sort_values(\n",
    "  by='Time', \n",
    "  ascending=True)\n",
    "ordered_cell['Time']=ordered_cell['Time'].astype(\"string\")\n",
    "X = ordered_cell[filtered_features]\n",
    "\n",
    "pca = PCA(n_components=2)\n",
    "components = pca.fit_transform(X)\n",
    "\n",
    "fig = px.scatter(components, x=0, y=1, color=ordered_cell['Time'] , labels = {\n",
    "    str(i): f\"PC {i+1} ({var:.1f}%)\"\n",
    "    for i, var in enumerate(pca.explained_variance_ratio_ * 100)\n",
    "})\n",
    "fig.show()"
   ]
  },
  {
   "cell_type": "code",
   "execution_count": null,
   "id": "fa51bbae-5f0d-4566-a96d-7848f0484a21",
   "metadata": {
    "deletable": true,
    "editable": true,
    "frozen": false,
    "scrolled": true
   },
   "outputs": [],
   "source": [
    "ordered_nuc = nuclei_df.sort_values(\n",
    "  by='Time', \n",
    "  ascending=True)\n",
    "\n",
    "fig = px.box(ordered_nuc, x='AreaShape_MeanRadius', color = 'Time', labels={\n",
    "                     \"AreaShape_MeanRadius\": \"Mean Nuclear Radius\",\n",
    "                     'Time': 'Time Point'})\n",
    "\n",
    "fig.show()"
   ]
  },
  {
   "cell_type": "code",
   "execution_count": null,
   "id": "856242eb-0d7f-40ef-a1d8-6103461351ce",
   "metadata": {
    "deletable": true,
    "editable": true,
    "frozen": false,
    "id": "QGdhJQLGUzie"
   },
   "outputs": [],
   "source": [
    "fig = px.box(outlier_removal(cell_df,'AreaShape_MeanRadius'), x='AreaShape_MeanRadius', color = 'Time')\n",
    "fig.update_yaxes(type='category')\n",
    "fig.show()"
   ]
  },
  {
   "cell_type": "markdown",
   "id": "0981584f-7e71-4b2f-8e0d-ad737b3333d2",
   "metadata": {
    "deletable": true,
    "editable": true,
    "frozen": false
   },
   "source": [
    "# Pycytominer Testing: Use on single-cell profiles"
   ]
  }
 ],
 "metadata": {
  "kernelspec": {
   "display_name": "Python 3 (ipykernel)",
   "language": "python",
   "name": "python3"
  },
  "language_info": {
   "codemirror_mode": {
    "name": "ipython",
    "version": 3
   },
   "file_extension": ".py",
   "mimetype": "text/x-python",
   "name": "python",
   "nbconvert_exporter": "python",
   "pygments_lexer": "ipython3",
   "version": "3.12.4"
  }
 },
 "nbformat": 4,
 "nbformat_minor": 5
}
